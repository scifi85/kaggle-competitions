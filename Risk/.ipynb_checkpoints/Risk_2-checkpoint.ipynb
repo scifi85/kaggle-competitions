{
 "cells": [
  {
   "cell_type": "code",
   "execution_count": 1,
   "metadata": {},
   "outputs": [],
   "source": [
    "import gc\n",
    "\n",
    "import pandas as pd\n",
    "import numpy as np\n",
    "from IPython.display import display, Markdown\n",
    "from sklearn.model_selection import train_test_split\n",
    "from sklearn.metrics import classification_report, roc_auc_score"
   ]
  },
  {
   "cell_type": "code",
   "execution_count": 2,
   "metadata": {},
   "outputs": [],
   "source": [
    "%matplotlib inline"
   ]
  },
  {
   "cell_type": "code",
   "execution_count": 3,
   "metadata": {},
   "outputs": [],
   "source": [
    "\n",
    "bureau_raw = pd.read_csv('home-credit-default-risk/bureau.csv')\n",
    "bureau_bal_raw = pd.read_csv('home-credit-default-risk/bureau_balance.csv')\n",
    "credit_bal_raw = pd.read_csv('home-credit-default-risk/credit_card_balance.csv')\n",
    "install_raw = pd.read_csv('home-credit-default-risk/installments_payments.csv')\n",
    "pos_raw = pd.read_csv('home-credit-default-risk/POS_CASH_balance.csv')\n",
    "prev_appl_raw = pd.read_csv('home-credit-default-risk/previous_application.csv')"
   ]
  },
  {
   "cell_type": "code",
   "execution_count": 4,
   "metadata": {},
   "outputs": [
    {
     "data": {
      "text/plain": [
       "21"
      ]
     },
     "execution_count": 4,
     "metadata": {},
     "output_type": "execute_result"
    }
   ],
   "source": [
    "buro_counts = bureau_bal_raw[['SK_ID_BUREAU', 'MONTHS_BALANCE']].groupby('SK_ID_BUREAU').count()\n",
    "bureau_bal_raw['buro_count'] = bureau_bal_raw['SK_ID_BUREAU'].map(buro_counts['MONTHS_BALANCE'])\n",
    "avg_buro_bal = bureau_bal_raw.groupby('SK_ID_BUREAU').mean()\n",
    "avg_buro_bal.columns = ['avg_buro_' + f_ for f_ in avg_buro_bal.columns]\n",
    "\n",
    "del bureau_bal_raw\n",
    "gc.collect()"
   ]
  },
  {
   "cell_type": "code",
   "execution_count": 5,
   "metadata": {},
   "outputs": [
    {
     "data": {
      "text/plain": [
       "7"
      ]
     },
     "execution_count": 5,
     "metadata": {},
     "output_type": "execute_result"
    }
   ],
   "source": [
    "buro_full = bureau_raw.merge(right=avg_buro_bal.reset_index(), how='left', on='SK_ID_BUREAU', suffixes=('', '_bur_bal'))\n",
    "nb_bureau_per_curr = buro_full[['SK_ID_CURR', 'SK_ID_BUREAU']].groupby('SK_ID_CURR').count()\n",
    "buro_full['SK_ID_BUREAU'] = buro_full['SK_ID_CURR'].map(nb_bureau_per_curr['SK_ID_BUREAU'])\n",
    "avg_buro = buro_full.groupby('SK_ID_CURR').mean()\n",
    "\n",
    "del bureau_raw\n",
    "gc.collect()"
   ]
  },
  {
   "cell_type": "code",
   "execution_count": 6,
   "metadata": {},
   "outputs": [
    {
     "data": {
      "text/plain": [
       "14"
      ]
     },
     "execution_count": 6,
     "metadata": {},
     "output_type": "execute_result"
    }
   ],
   "source": [
    "prev_cat_features = [f_ for f_ in prev_appl_raw.columns if prev_appl_raw[f_].dtype == 'object']\n",
    "nb_prev_per_curr = prev_appl_raw[['SK_ID_CURR', 'SK_ID_PREV']].groupby('SK_ID_CURR').count()\n",
    "prev_appl_raw['SK_ID_PREV'] = prev_appl_raw['SK_ID_CURR'].map(nb_prev_per_curr['SK_ID_PREV'])\n",
    "avg_prev = prev_appl_raw.groupby('SK_ID_CURR').mean()\n",
    "\n",
    "del prev_appl_raw\n",
    "gc.collect()"
   ]
  },
  {
   "cell_type": "code",
   "execution_count": 7,
   "metadata": {},
   "outputs": [
    {
     "data": {
      "text/plain": [
       "14"
      ]
     },
     "execution_count": 7,
     "metadata": {},
     "output_type": "execute_result"
    }
   ],
   "source": [
    "nb_prevs = pos_raw[['SK_ID_CURR', 'SK_ID_PREV']].groupby('SK_ID_CURR').count()\n",
    "pos_raw['SK_ID_PREV'] = pos_raw['SK_ID_CURR'].map(nb_prevs['SK_ID_PREV'])\n",
    "avg_pos = pos_raw.groupby('SK_ID_CURR').mean()\n",
    "\n",
    "del pos_raw\n",
    "gc.collect()"
   ]
  },
  {
   "cell_type": "code",
   "execution_count": 8,
   "metadata": {},
   "outputs": [
    {
     "data": {
      "text/plain": [
       "42"
      ]
     },
     "execution_count": 8,
     "metadata": {},
     "output_type": "execute_result"
    }
   ],
   "source": [
    "nb_prevs = credit_bal_raw[['SK_ID_CURR', 'SK_ID_PREV']].groupby('SK_ID_CURR').count()\n",
    "credit_bal_raw['SK_ID_PREV'] = credit_bal_raw['SK_ID_CURR'].map(nb_prevs['SK_ID_PREV'])\n",
    "avg_cc_bal = credit_bal_raw.groupby('SK_ID_CURR').mean()\n",
    "avg_cc_bal.columns = ['cc_bal_' + f_ for f_ in avg_cc_bal.columns]\n",
    "\n",
    "del credit_bal_raw, nb_prevs\n",
    "gc.collect()"
   ]
  },
  {
   "cell_type": "code",
   "execution_count": 9,
   "metadata": {},
   "outputs": [],
   "source": [
    "nb_prevs = install_raw[['SK_ID_CURR', 'SK_ID_PREV']].groupby('SK_ID_CURR').count()\n",
    "install_raw['SK_ID_PREV'] = install_raw['SK_ID_CURR'].map(nb_prevs['SK_ID_PREV'])\n",
    "avg_inst = install_raw.groupby('SK_ID_CURR').mean()\n",
    "avg_inst.columns = ['inst_' + f_ for f_ in avg_inst.columns]"
   ]
  },
  {
   "cell_type": "code",
   "execution_count": 10,
   "metadata": {},
   "outputs": [],
   "source": [
    "data = pd.read_csv('home-credit-default-risk/application_train.csv')\n",
    "test = pd.read_csv('home-credit-default-risk/application_test.csv')"
   ]
  },
  {
   "cell_type": "code",
   "execution_count": 11,
   "metadata": {},
   "outputs": [
    {
     "data": {
      "text/plain": [
       "((307511, 122), (48744, 121))"
      ]
     },
     "execution_count": 11,
     "metadata": {},
     "output_type": "execute_result"
    }
   ],
   "source": [
    "data.shape, test.shape"
   ]
  },
  {
   "cell_type": "code",
   "execution_count": 12,
   "metadata": {},
   "outputs": [
    {
     "data": {
      "text/plain": [
       "126"
      ]
     },
     "execution_count": 12,
     "metadata": {},
     "output_type": "execute_result"
    }
   ],
   "source": [
    "data = data.merge(right=avg_buro.reset_index(), how='left', on='SK_ID_CURR')\n",
    "test = test.merge(right=avg_buro.reset_index(), how='left', on='SK_ID_CURR')\n",
    "\n",
    "data = data.merge(right=avg_prev.reset_index(), how='left', on='SK_ID_CURR')\n",
    "test = test.merge(right=avg_prev.reset_index(), how='left', on='SK_ID_CURR')\n",
    "\n",
    "data = data.merge(right=avg_pos.reset_index(), how='left', on='SK_ID_CURR')\n",
    "test = test.merge(right=avg_pos.reset_index(), how='left', on='SK_ID_CURR')\n",
    "\n",
    "data = data.merge(right=avg_cc_bal.reset_index(), how='left', on='SK_ID_CURR')\n",
    "test = test.merge(right=avg_cc_bal.reset_index(), how='left', on='SK_ID_CURR')\n",
    "\n",
    "data = data.merge(right=avg_inst.reset_index(), how='left', on='SK_ID_CURR')\n",
    "test = test.merge(right=avg_inst.reset_index(), how='left', on='SK_ID_CURR')\n",
    "\n",
    "del avg_buro, avg_prev\n",
    "gc.collect()"
   ]
  },
  {
   "cell_type": "code",
   "execution_count": 13,
   "metadata": {},
   "outputs": [
    {
     "data": {
      "text/plain": [
       "((307511, 191), (48744, 190))"
      ]
     },
     "execution_count": 13,
     "metadata": {},
     "output_type": "execute_result"
    }
   ],
   "source": [
    "data.shape, test.shape"
   ]
  },
  {
   "cell_type": "code",
   "execution_count": 14,
   "metadata": {},
   "outputs": [],
   "source": [
    "X_train, y_train = data.iloc[:,2:], data.TARGET\n",
    "X_test = test.iloc[:,1:]"
   ]
  },
  {
   "cell_type": "code",
   "execution_count": 15,
   "metadata": {},
   "outputs": [
    {
     "data": {
      "text/plain": [
       "{'NAME_CONTRACT_TYPE': ['Cash loans', 'Revolving loans'],\n",
       " 'CODE_GENDER': ['M', 'F', 'XNA'],\n",
       " 'FLAG_OWN_CAR': ['N', 'Y'],\n",
       " 'FLAG_OWN_REALTY': ['Y', 'N'],\n",
       " 'NAME_TYPE_SUITE': ['Unaccompanied',\n",
       "  'Family',\n",
       "  'Spouse, partner',\n",
       "  'Children',\n",
       "  'Other_A',\n",
       "  nan,\n",
       "  'Other_B',\n",
       "  'Group of people'],\n",
       " 'NAME_INCOME_TYPE': ['Working',\n",
       "  'State servant',\n",
       "  'Commercial associate',\n",
       "  'Pensioner',\n",
       "  'Unemployed',\n",
       "  'Student',\n",
       "  'Businessman',\n",
       "  'Maternity leave'],\n",
       " 'NAME_EDUCATION_TYPE': ['Secondary / secondary special',\n",
       "  'Higher education',\n",
       "  'Incomplete higher',\n",
       "  'Lower secondary',\n",
       "  'Academic degree'],\n",
       " 'NAME_FAMILY_STATUS': ['Single / not married',\n",
       "  'Married',\n",
       "  'Civil marriage',\n",
       "  'Widow',\n",
       "  'Separated',\n",
       "  'Unknown'],\n",
       " 'NAME_HOUSING_TYPE': ['House / apartment',\n",
       "  'Rented apartment',\n",
       "  'With parents',\n",
       "  'Municipal apartment',\n",
       "  'Office apartment',\n",
       "  'Co-op apartment'],\n",
       " 'OCCUPATION_TYPE': ['Laborers',\n",
       "  'Core staff',\n",
       "  'Accountants',\n",
       "  'Managers',\n",
       "  nan,\n",
       "  'Drivers',\n",
       "  'Sales staff',\n",
       "  'Cleaning staff',\n",
       "  'Cooking staff',\n",
       "  'Private service staff',\n",
       "  'Medicine staff',\n",
       "  'Security staff',\n",
       "  'High skill tech staff',\n",
       "  'Waiters/barmen staff',\n",
       "  'Low-skill Laborers',\n",
       "  'Realty agents',\n",
       "  'Secretaries',\n",
       "  'IT staff',\n",
       "  'HR staff'],\n",
       " 'WEEKDAY_APPR_PROCESS_START': ['WEDNESDAY',\n",
       "  'MONDAY',\n",
       "  'THURSDAY',\n",
       "  'SUNDAY',\n",
       "  'SATURDAY',\n",
       "  'FRIDAY',\n",
       "  'TUESDAY'],\n",
       " 'ORGANIZATION_TYPE': ['Business Entity Type 3',\n",
       "  'School',\n",
       "  'Government',\n",
       "  'Religion',\n",
       "  'Other',\n",
       "  'XNA',\n",
       "  'Electricity',\n",
       "  'Medicine',\n",
       "  'Business Entity Type 2',\n",
       "  'Self-employed',\n",
       "  'Transport: type 2',\n",
       "  'Construction',\n",
       "  'Housing',\n",
       "  'Kindergarten',\n",
       "  'Trade: type 7',\n",
       "  'Industry: type 11',\n",
       "  'Military',\n",
       "  'Services',\n",
       "  'Security Ministries',\n",
       "  'Transport: type 4',\n",
       "  'Industry: type 1',\n",
       "  'Emergency',\n",
       "  'Security',\n",
       "  'Trade: type 2',\n",
       "  'University',\n",
       "  'Transport: type 3',\n",
       "  'Police',\n",
       "  'Business Entity Type 1',\n",
       "  'Postal',\n",
       "  'Industry: type 4',\n",
       "  'Agriculture',\n",
       "  'Restaurant',\n",
       "  'Culture',\n",
       "  'Hotel',\n",
       "  'Industry: type 7',\n",
       "  'Trade: type 3',\n",
       "  'Industry: type 3',\n",
       "  'Bank',\n",
       "  'Industry: type 9',\n",
       "  'Insurance',\n",
       "  'Trade: type 6',\n",
       "  'Industry: type 2',\n",
       "  'Transport: type 1',\n",
       "  'Industry: type 12',\n",
       "  'Mobile',\n",
       "  'Trade: type 1',\n",
       "  'Industry: type 5',\n",
       "  'Industry: type 10',\n",
       "  'Legal Services',\n",
       "  'Advertising',\n",
       "  'Trade: type 5',\n",
       "  'Cleaning',\n",
       "  'Industry: type 13',\n",
       "  'Trade: type 4',\n",
       "  'Telecom',\n",
       "  'Industry: type 8',\n",
       "  'Realtor',\n",
       "  'Industry: type 6'],\n",
       " 'FONDKAPREMONT_MODE': ['reg oper account',\n",
       "  nan,\n",
       "  'org spec account',\n",
       "  'reg oper spec account',\n",
       "  'not specified'],\n",
       " 'HOUSETYPE_MODE': ['block of flats',\n",
       "  nan,\n",
       "  'terraced house',\n",
       "  'specific housing'],\n",
       " 'WALLSMATERIAL_MODE': ['Stone, brick',\n",
       "  'Block',\n",
       "  nan,\n",
       "  'Panel',\n",
       "  'Mixed',\n",
       "  'Wooden',\n",
       "  'Others',\n",
       "  'Monolithic'],\n",
       " 'EMERGENCYSTATE_MODE': ['No', nan, 'Yes']}"
      ]
     },
     "execution_count": 15,
     "metadata": {},
     "output_type": "execute_result"
    }
   ],
   "source": [
    "col_vals_dict = {c: list(X_train[c].unique()) for c in X_train.columns if X_train[c].dtype == object}\n",
    "col_vals_dict"
   ]
  },
  {
   "cell_type": "code",
   "execution_count": 16,
   "metadata": {},
   "outputs": [
    {
     "name": "stdout",
     "output_type": "stream",
     "text": [
      "Number of Numerical features: 173\n",
      "Number of Categorical features: 16\n"
     ]
    }
   ],
   "source": [
    "nb_numeric   = len(X_train.columns) - len(col_vals_dict)\n",
    "nb_categoric = len(col_vals_dict)\n",
    "print('Number of Numerical features:', nb_numeric)\n",
    "print('Number of Categorical features:', nb_categoric)"
   ]
  },
  {
   "cell_type": "code",
   "execution_count": 17,
   "metadata": {},
   "outputs": [],
   "source": [
    "# Store the labels of each features\n",
    "col_vals_dict = {c: list(X_train[c].unique()) for c in X_train.columns if X_train[c].dtype == object}"
   ]
  },
  {
   "cell_type": "code",
   "execution_count": 18,
   "metadata": {},
   "outputs": [
    {
     "data": {
      "text/plain": [
       "{'NAME_CONTRACT_TYPE': ['Cash loans', 'Revolving loans'],\n",
       " 'CODE_GENDER': ['M', 'F', 'XNA'],\n",
       " 'FLAG_OWN_CAR': ['N', 'Y'],\n",
       " 'FLAG_OWN_REALTY': ['Y', 'N'],\n",
       " 'NAME_TYPE_SUITE': ['Unaccompanied',\n",
       "  'Family',\n",
       "  'Spouse, partner',\n",
       "  'Children',\n",
       "  'Other_A',\n",
       "  nan,\n",
       "  'Other_B',\n",
       "  'Group of people'],\n",
       " 'NAME_INCOME_TYPE': ['Working',\n",
       "  'State servant',\n",
       "  'Commercial associate',\n",
       "  'Pensioner',\n",
       "  'Unemployed',\n",
       "  'Student',\n",
       "  'Businessman',\n",
       "  'Maternity leave'],\n",
       " 'NAME_EDUCATION_TYPE': ['Secondary / secondary special',\n",
       "  'Higher education',\n",
       "  'Incomplete higher',\n",
       "  'Lower secondary',\n",
       "  'Academic degree'],\n",
       " 'NAME_FAMILY_STATUS': ['Single / not married',\n",
       "  'Married',\n",
       "  'Civil marriage',\n",
       "  'Widow',\n",
       "  'Separated',\n",
       "  'Unknown'],\n",
       " 'NAME_HOUSING_TYPE': ['House / apartment',\n",
       "  'Rented apartment',\n",
       "  'With parents',\n",
       "  'Municipal apartment',\n",
       "  'Office apartment',\n",
       "  'Co-op apartment'],\n",
       " 'OCCUPATION_TYPE': ['Laborers',\n",
       "  'Core staff',\n",
       "  'Accountants',\n",
       "  'Managers',\n",
       "  nan,\n",
       "  'Drivers',\n",
       "  'Sales staff',\n",
       "  'Cleaning staff',\n",
       "  'Cooking staff',\n",
       "  'Private service staff',\n",
       "  'Medicine staff',\n",
       "  'Security staff',\n",
       "  'High skill tech staff',\n",
       "  'Waiters/barmen staff',\n",
       "  'Low-skill Laborers',\n",
       "  'Realty agents',\n",
       "  'Secretaries',\n",
       "  'IT staff',\n",
       "  'HR staff'],\n",
       " 'WEEKDAY_APPR_PROCESS_START': ['WEDNESDAY',\n",
       "  'MONDAY',\n",
       "  'THURSDAY',\n",
       "  'SUNDAY',\n",
       "  'SATURDAY',\n",
       "  'FRIDAY',\n",
       "  'TUESDAY'],\n",
       " 'ORGANIZATION_TYPE': ['Business Entity Type 3',\n",
       "  'School',\n",
       "  'Government',\n",
       "  'Religion',\n",
       "  'Other',\n",
       "  'XNA',\n",
       "  'Electricity',\n",
       "  'Medicine',\n",
       "  'Business Entity Type 2',\n",
       "  'Self-employed',\n",
       "  'Transport: type 2',\n",
       "  'Construction',\n",
       "  'Housing',\n",
       "  'Kindergarten',\n",
       "  'Trade: type 7',\n",
       "  'Industry: type 11',\n",
       "  'Military',\n",
       "  'Services',\n",
       "  'Security Ministries',\n",
       "  'Transport: type 4',\n",
       "  'Industry: type 1',\n",
       "  'Emergency',\n",
       "  'Security',\n",
       "  'Trade: type 2',\n",
       "  'University',\n",
       "  'Transport: type 3',\n",
       "  'Police',\n",
       "  'Business Entity Type 1',\n",
       "  'Postal',\n",
       "  'Industry: type 4',\n",
       "  'Agriculture',\n",
       "  'Restaurant',\n",
       "  'Culture',\n",
       "  'Hotel',\n",
       "  'Industry: type 7',\n",
       "  'Trade: type 3',\n",
       "  'Industry: type 3',\n",
       "  'Bank',\n",
       "  'Industry: type 9',\n",
       "  'Insurance',\n",
       "  'Trade: type 6',\n",
       "  'Industry: type 2',\n",
       "  'Transport: type 1',\n",
       "  'Industry: type 12',\n",
       "  'Mobile',\n",
       "  'Trade: type 1',\n",
       "  'Industry: type 5',\n",
       "  'Industry: type 10',\n",
       "  'Legal Services',\n",
       "  'Advertising',\n",
       "  'Trade: type 5',\n",
       "  'Cleaning',\n",
       "  'Industry: type 13',\n",
       "  'Trade: type 4',\n",
       "  'Telecom',\n",
       "  'Industry: type 8',\n",
       "  'Realtor',\n",
       "  'Industry: type 6'],\n",
       " 'FONDKAPREMONT_MODE': ['reg oper account',\n",
       "  nan,\n",
       "  'org spec account',\n",
       "  'reg oper spec account',\n",
       "  'not specified'],\n",
       " 'HOUSETYPE_MODE': ['block of flats',\n",
       "  nan,\n",
       "  'terraced house',\n",
       "  'specific housing'],\n",
       " 'WALLSMATERIAL_MODE': ['Stone, brick',\n",
       "  'Block',\n",
       "  nan,\n",
       "  'Panel',\n",
       "  'Mixed',\n",
       "  'Wooden',\n",
       "  'Others',\n",
       "  'Monolithic'],\n",
       " 'EMERGENCYSTATE_MODE': ['No', nan, 'Yes']}"
      ]
     },
     "execution_count": 18,
     "metadata": {},
     "output_type": "execute_result"
    }
   ],
   "source": [
    "col_vals_dict"
   ]
  },
  {
   "cell_type": "code",
   "execution_count": 19,
   "metadata": {},
   "outputs": [
    {
     "name": "stderr",
     "output_type": "stream",
     "text": [
      "Using TensorFlow backend.\n"
     ]
    }
   ],
   "source": [
    "from sklearn.preprocessing import LabelEncoder, MinMaxScaler\n",
    "from sklearn.model_selection import StratifiedKFold\n",
    "from sklearn.metrics import roc_auc_score, precision_recall_curve, roc_curve, average_precision_score\n",
    "from keras.models import Sequential, Model\n",
    "from keras.layers import Dense, Activation, merge, Reshape, Dropout, Input, Flatten, Concatenate\n",
    "from keras.layers.embeddings import Embedding\n",
    "from keras.callbacks import EarlyStopping"
   ]
  },
  {
   "cell_type": "code",
   "execution_count": 20,
   "metadata": {},
   "outputs": [],
   "source": [
    "# Generator to parse the cat\n",
    "generator = (c for c in X_train.columns if X_train[c].dtype == object)\n",
    "\n",
    "# Label Encoder\n",
    "for c in generator:\n",
    "    lbl = LabelEncoder()\n",
    "    lbl.fit(list(X_train[c].values) + list(X_test[c].values))\n",
    "    X_train[c] = lbl.transform(list(X_train[c].values))\n",
    "    X_test[c] = lbl.transform(list(X_test[c].values))"
   ]
  },
  {
   "cell_type": "code",
   "execution_count": 21,
   "metadata": {},
   "outputs": [
    {
     "name": "stdout",
     "output_type": "stream",
     "text": [
      "CODE_GENDER: 3 values\n",
      "NAME_TYPE_SUITE: 8 values\n",
      "NAME_INCOME_TYPE: 8 values\n",
      "NAME_EDUCATION_TYPE: 5 values\n",
      "NAME_FAMILY_STATUS: 6 values\n",
      "NAME_HOUSING_TYPE: 6 values\n",
      "OCCUPATION_TYPE: 19 values\n",
      "WEEKDAY_APPR_PROCESS_START: 7 values\n",
      "ORGANIZATION_TYPE: 58 values\n",
      "FONDKAPREMONT_MODE: 5 values\n",
      "HOUSETYPE_MODE: 4 values\n",
      "WALLSMATERIAL_MODE: 8 values\n",
      "EMERGENCYSTATE_MODE: 3 values\n",
      "\n",
      " Number of embed features : 13\n"
     ]
    }
   ],
   "source": [
    "embed_cols = []\n",
    "len_embed_cols = []\n",
    "for c in col_vals_dict:\n",
    "    if len(col_vals_dict[c])>2:\n",
    "        embed_cols.append(c)\n",
    "        len_embed_cols.append(len(col_vals_dict[c]))\n",
    "        print(c + ': %d values' % len(col_vals_dict[c]))\n",
    "print('\\n Number of embed features :', len(embed_cols))"
   ]
  },
  {
   "cell_type": "code",
   "execution_count": 22,
   "metadata": {},
   "outputs": [],
   "source": [
    "def build_embedding_network(len_embed_cols):\n",
    "    \n",
    "    model_out = []\n",
    "    model_in  = []\n",
    "    \n",
    "    for dim in len_embed_cols:\n",
    "        input_dim = Input(shape=(1,), dtype='int32')\n",
    "        embed_dim = Embedding(dim, dim//2, input_length=1)(input_dim)\n",
    "        embed_dim = Dropout(0.25)(embed_dim)\n",
    "        embed_dim = Reshape((dim//2,))(embed_dim)\n",
    "        model_out.append(embed_dim)\n",
    "        model_in.append(input_dim)\n",
    "    \n",
    "    input_num = Input(shape=(176,), dtype='float32')\n",
    "    outputs = Concatenate(axis=1)([*model_out, input_num])\n",
    "    \n",
    "    outputs = (Dense(128))(outputs) \n",
    "    outputs = (Activation('relu'))(outputs)\n",
    "    outputs = (Dropout(.35))(outputs)\n",
    "    outputs = (Dense(64))(outputs)\n",
    "    outputs = (Activation('relu'))(outputs)\n",
    "    outputs = (Dropout(.15))(outputs)\n",
    "    outputs = (Dense(32))(outputs) \n",
    "    outputs = (Activation('relu'))(outputs)\n",
    "    outputs = (Dropout(.15))(outputs)\n",
    "    outputs = (Dense(1))(outputs)\n",
    "    outputs = (Activation('sigmoid'))(outputs)\n",
    "    \n",
    "    model = Model([*model_in, input_num], outputs)\n",
    "\n",
    "    model.compile(loss='binary_crossentropy', optimizer='adam')\n",
    "    \n",
    "    return model"
   ]
  },
  {
   "cell_type": "code",
   "execution_count": 23,
   "metadata": {},
   "outputs": [],
   "source": [
    "def preproc(X_train, X_val, X_test):\n",
    "\n",
    "    input_list_train = []\n",
    "    input_list_val = []\n",
    "    input_list_test = []\n",
    "    \n",
    "    #the cols to be embedded: rescaling to range [0, # values)\n",
    "    for c in embed_cols:\n",
    "        raw_vals = np.unique(X_train[c])\n",
    "        val_map = {}\n",
    "        for i in range(len(raw_vals)):\n",
    "            val_map[raw_vals[i]] = i\n",
    "        gc.collect()\n",
    "        input_list_train.append(X_train[c].map(val_map).values)\n",
    "        input_list_val.append(X_val[c].map(val_map).fillna(0).values)\n",
    "        input_list_test.append(X_test[c].map(val_map).fillna(0).values)\n",
    "        \n",
    "    #the rest of the columns\n",
    "    other_cols = [c for c in X_train.columns if (not c in embed_cols)]\n",
    "    input_list_train.append(X_train[other_cols].values)\n",
    "    input_list_val.append(X_val[other_cols].values)\n",
    "    input_list_test.append(X_test[other_cols].values)\n",
    "    \n",
    "    return input_list_train, input_list_val, input_list_test"
   ]
  },
  {
   "cell_type": "code",
   "execution_count": 24,
   "metadata": {},
   "outputs": [
    {
     "name": "stdout",
     "output_type": "stream",
     "text": [
      "Length of the list: 14\n"
     ]
    }
   ],
   "source": [
    "proc_X_train_f, proc_X_val_f, proc_X_test_f = preproc(X_train, X_train, X_test)\n",
    "print('Length of the list:', len(proc_X_train_f))"
   ]
  },
  {
   "cell_type": "code",
   "execution_count": 25,
   "metadata": {},
   "outputs": [
    {
     "data": {
      "text/plain": [
       "21"
      ]
     },
     "execution_count": 25,
     "metadata": {},
     "output_type": "execute_result"
    }
   ],
   "source": [
    "gc.collect()"
   ]
  },
  {
   "cell_type": "code",
   "execution_count": 26,
   "metadata": {},
   "outputs": [],
   "source": [
    "# Select the numeric features\n",
    "num_cols = [x for x in X_train.columns if x not in embed_cols]\n",
    "\n",
    "\n",
    "# Impute missing values in order to scale\n",
    "X_train[num_cols] = X_train[num_cols].fillna(value = 0)\n",
    "X_test[num_cols] = X_test[num_cols].fillna(value = 0)\n",
    "\n",
    "\n",
    "\n",
    "# Fit the scaler only on train data\n",
    "scaler = MinMaxScaler().fit(X_train[num_cols])\n",
    "X_train.loc[:,num_cols] = scaler.transform(X_train[num_cols])\n",
    "X_test.loc[:,num_cols] = scaler.transform(X_test[num_cols])"
   ]
  },
  {
   "cell_type": "code",
   "execution_count": null,
   "metadata": {},
   "outputs": [],
   "source": []
  }
 ],
 "metadata": {
  "kernelspec": {
   "display_name": "Python 3",
   "language": "python",
   "name": "python3"
  },
  "language_info": {
   "codemirror_mode": {
    "name": "ipython",
    "version": 3
   },
   "file_extension": ".py",
   "mimetype": "text/x-python",
   "name": "python",
   "nbconvert_exporter": "python",
   "pygments_lexer": "ipython3",
   "version": "3.6.6"
  }
 },
 "nbformat": 4,
 "nbformat_minor": 2
}
