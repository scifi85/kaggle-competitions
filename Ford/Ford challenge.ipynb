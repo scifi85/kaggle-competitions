{
 "cells": [
  {
   "cell_type": "code",
   "execution_count": 56,
   "metadata": {},
   "outputs": [],
   "source": [
    "import pandas as pd\n",
    "import numpy as np\n",
    "import matplotlib.pyplot as plt\n",
    "import seaborn as sns\n",
    "from IPython.display import display, Markdown\n",
    "from sklearn.model_selection import train_test_split\n",
    "from sklearn.metrics import classification_report, roc_auc_score\n",
    "from sklearn.naive_bayes import GaussianNB\n",
    "from sklearn.linear_model import LogisticRegression"
   ]
  },
  {
   "cell_type": "code",
   "execution_count": 2,
   "metadata": {},
   "outputs": [],
   "source": [
    "%matplotlib inline"
   ]
  },
  {
   "cell_type": "code",
   "execution_count": 3,
   "metadata": {},
   "outputs": [],
   "source": [
    "train_ds_raw = pd.read_csv('dataset/fordTrain.csv')"
   ]
  },
  {
   "cell_type": "code",
   "execution_count": 11,
   "metadata": {},
   "outputs": [],
   "source": [
    "pd.options.display.max_columns = None"
   ]
  },
  {
   "cell_type": "code",
   "execution_count": 46,
   "metadata": {},
   "outputs": [
    {
     "data": {
      "text/html": [
       "<div>\n",
       "<style scoped>\n",
       "    .dataframe tbody tr th:only-of-type {\n",
       "        vertical-align: middle;\n",
       "    }\n",
       "\n",
       "    .dataframe tbody tr th {\n",
       "        vertical-align: top;\n",
       "    }\n",
       "\n",
       "    .dataframe thead th {\n",
       "        text-align: right;\n",
       "    }\n",
       "</style>\n",
       "<table border=\"1\" class=\"dataframe\">\n",
       "  <thead>\n",
       "    <tr style=\"text-align: right;\">\n",
       "      <th></th>\n",
       "      <th>TrialID</th>\n",
       "      <th>ObsNum</th>\n",
       "      <th>IsAlert</th>\n",
       "      <th>P1</th>\n",
       "      <th>P2</th>\n",
       "      <th>P3</th>\n",
       "      <th>P4</th>\n",
       "      <th>P5</th>\n",
       "      <th>P6</th>\n",
       "      <th>P7</th>\n",
       "      <th>P8</th>\n",
       "      <th>E1</th>\n",
       "      <th>E2</th>\n",
       "      <th>E3</th>\n",
       "      <th>E4</th>\n",
       "      <th>E5</th>\n",
       "      <th>E6</th>\n",
       "      <th>E7</th>\n",
       "      <th>E8</th>\n",
       "      <th>E9</th>\n",
       "      <th>E10</th>\n",
       "      <th>E11</th>\n",
       "      <th>V1</th>\n",
       "      <th>V2</th>\n",
       "      <th>V3</th>\n",
       "      <th>V4</th>\n",
       "      <th>V5</th>\n",
       "      <th>V6</th>\n",
       "      <th>V7</th>\n",
       "      <th>V8</th>\n",
       "      <th>V9</th>\n",
       "      <th>V10</th>\n",
       "      <th>V11</th>\n",
       "    </tr>\n",
       "  </thead>\n",
       "  <tbody>\n",
       "    <tr>\n",
       "      <th>count</th>\n",
       "      <td>604329.000000</td>\n",
       "      <td>604329.000000</td>\n",
       "      <td>604329.000000</td>\n",
       "      <td>604329.000000</td>\n",
       "      <td>604329.000000</td>\n",
       "      <td>604329.000000</td>\n",
       "      <td>604329.000000</td>\n",
       "      <td>604329.000000</td>\n",
       "      <td>604329.000000</td>\n",
       "      <td>604329.000000</td>\n",
       "      <td>604329.0</td>\n",
       "      <td>604329.000000</td>\n",
       "      <td>604329.000000</td>\n",
       "      <td>604329.000000</td>\n",
       "      <td>604329.000000</td>\n",
       "      <td>604329.000000</td>\n",
       "      <td>604329.000000</td>\n",
       "      <td>604329.000000</td>\n",
       "      <td>604329.000000</td>\n",
       "      <td>604329.000000</td>\n",
       "      <td>604329.000000</td>\n",
       "      <td>604329.000000</td>\n",
       "      <td>604329.000000</td>\n",
       "      <td>604329.000000</td>\n",
       "      <td>604329.000000</td>\n",
       "      <td>604329.000000</td>\n",
       "      <td>604329.000000</td>\n",
       "      <td>604329.000000</td>\n",
       "      <td>604329.0</td>\n",
       "      <td>604329.000000</td>\n",
       "      <td>604329.0</td>\n",
       "      <td>604329.000000</td>\n",
       "      <td>604329.000000</td>\n",
       "    </tr>\n",
       "    <tr>\n",
       "      <th>mean</th>\n",
       "      <td>250.167657</td>\n",
       "      <td>603.841765</td>\n",
       "      <td>0.578799</td>\n",
       "      <td>35.449020</td>\n",
       "      <td>11.996525</td>\n",
       "      <td>1026.671035</td>\n",
       "      <td>64.061965</td>\n",
       "      <td>0.178923</td>\n",
       "      <td>845.384610</td>\n",
       "      <td>77.887628</td>\n",
       "      <td>0.0</td>\n",
       "      <td>10.512332</td>\n",
       "      <td>102.790045</td>\n",
       "      <td>0.290565</td>\n",
       "      <td>-4.230136</td>\n",
       "      <td>0.016262</td>\n",
       "      <td>358.674738</td>\n",
       "      <td>1.757296</td>\n",
       "      <td>1.383058</td>\n",
       "      <td>0.876787</td>\n",
       "      <td>63.311256</td>\n",
       "      <td>1.315265</td>\n",
       "      <td>76.965412</td>\n",
       "      <td>-0.037710</td>\n",
       "      <td>573.786433</td>\n",
       "      <td>19.961030</td>\n",
       "      <td>0.179814</td>\n",
       "      <td>1715.688383</td>\n",
       "      <td>0.0</td>\n",
       "      <td>12.710354</td>\n",
       "      <td>0.0</td>\n",
       "      <td>3.312257</td>\n",
       "      <td>11.668277</td>\n",
       "    </tr>\n",
       "    <tr>\n",
       "      <th>std</th>\n",
       "      <td>145.446164</td>\n",
       "      <td>348.931601</td>\n",
       "      <td>0.493752</td>\n",
       "      <td>7.484629</td>\n",
       "      <td>3.760292</td>\n",
       "      <td>309.277877</td>\n",
       "      <td>19.755950</td>\n",
       "      <td>0.372309</td>\n",
       "      <td>2505.335141</td>\n",
       "      <td>18.577930</td>\n",
       "      <td>0.0</td>\n",
       "      <td>14.049071</td>\n",
       "      <td>127.258629</td>\n",
       "      <td>1.006162</td>\n",
       "      <td>35.508596</td>\n",
       "      <td>0.002304</td>\n",
       "      <td>27.399973</td>\n",
       "      <td>2.854852</td>\n",
       "      <td>1.608807</td>\n",
       "      <td>0.328681</td>\n",
       "      <td>18.891029</td>\n",
       "      <td>5.247204</td>\n",
       "      <td>44.387031</td>\n",
       "      <td>0.403896</td>\n",
       "      <td>298.412888</td>\n",
       "      <td>63.269456</td>\n",
       "      <td>0.384033</td>\n",
       "      <td>618.176470</td>\n",
       "      <td>0.0</td>\n",
       "      <td>11.532085</td>\n",
       "      <td>0.0</td>\n",
       "      <td>1.243586</td>\n",
       "      <td>9.934423</td>\n",
       "    </tr>\n",
       "    <tr>\n",
       "      <th>min</th>\n",
       "      <td>0.000000</td>\n",
       "      <td>0.000000</td>\n",
       "      <td>0.000000</td>\n",
       "      <td>-22.481200</td>\n",
       "      <td>-45.629200</td>\n",
       "      <td>504.000000</td>\n",
       "      <td>23.885300</td>\n",
       "      <td>0.038920</td>\n",
       "      <td>128.000000</td>\n",
       "      <td>0.262224</td>\n",
       "      <td>0.0</td>\n",
       "      <td>0.000000</td>\n",
       "      <td>0.000000</td>\n",
       "      <td>0.000000</td>\n",
       "      <td>-250.000000</td>\n",
       "      <td>0.008000</td>\n",
       "      <td>260.000000</td>\n",
       "      <td>0.000000</td>\n",
       "      <td>0.000000</td>\n",
       "      <td>0.000000</td>\n",
       "      <td>0.000000</td>\n",
       "      <td>0.000000</td>\n",
       "      <td>0.000000</td>\n",
       "      <td>-4.795000</td>\n",
       "      <td>240.000000</td>\n",
       "      <td>0.000000</td>\n",
       "      <td>0.000000</td>\n",
       "      <td>0.000000</td>\n",
       "      <td>0.0</td>\n",
       "      <td>0.000000</td>\n",
       "      <td>0.0</td>\n",
       "      <td>1.000000</td>\n",
       "      <td>1.676730</td>\n",
       "    </tr>\n",
       "    <tr>\n",
       "      <th>25%</th>\n",
       "      <td>125.000000</td>\n",
       "      <td>302.000000</td>\n",
       "      <td>0.000000</td>\n",
       "      <td>31.758100</td>\n",
       "      <td>9.903540</td>\n",
       "      <td>792.000000</td>\n",
       "      <td>49.180300</td>\n",
       "      <td>0.092110</td>\n",
       "      <td>668.000000</td>\n",
       "      <td>66.666700</td>\n",
       "      <td>0.0</td>\n",
       "      <td>0.000000</td>\n",
       "      <td>0.000000</td>\n",
       "      <td>0.000000</td>\n",
       "      <td>-8.000000</td>\n",
       "      <td>0.015686</td>\n",
       "      <td>348.000000</td>\n",
       "      <td>0.000000</td>\n",
       "      <td>0.000000</td>\n",
       "      <td>1.000000</td>\n",
       "      <td>52.000000</td>\n",
       "      <td>0.000000</td>\n",
       "      <td>41.930000</td>\n",
       "      <td>-0.175000</td>\n",
       "      <td>255.000000</td>\n",
       "      <td>1.487500</td>\n",
       "      <td>0.000000</td>\n",
       "      <td>1259.000000</td>\n",
       "      <td>0.0</td>\n",
       "      <td>0.000000</td>\n",
       "      <td>0.0</td>\n",
       "      <td>3.000000</td>\n",
       "      <td>7.947680</td>\n",
       "    </tr>\n",
       "    <tr>\n",
       "      <th>50%</th>\n",
       "      <td>250.000000</td>\n",
       "      <td>604.000000</td>\n",
       "      <td>1.000000</td>\n",
       "      <td>34.145100</td>\n",
       "      <td>11.400400</td>\n",
       "      <td>1000.000000</td>\n",
       "      <td>60.000000</td>\n",
       "      <td>0.105083</td>\n",
       "      <td>800.000000</td>\n",
       "      <td>75.000000</td>\n",
       "      <td>0.0</td>\n",
       "      <td>0.000000</td>\n",
       "      <td>0.000000</td>\n",
       "      <td>0.000000</td>\n",
       "      <td>0.000000</td>\n",
       "      <td>0.016001</td>\n",
       "      <td>365.000000</td>\n",
       "      <td>1.000000</td>\n",
       "      <td>1.000000</td>\n",
       "      <td>1.000000</td>\n",
       "      <td>67.000000</td>\n",
       "      <td>0.000000</td>\n",
       "      <td>100.400000</td>\n",
       "      <td>0.000000</td>\n",
       "      <td>511.000000</td>\n",
       "      <td>3.018750</td>\n",
       "      <td>0.000000</td>\n",
       "      <td>1994.000000</td>\n",
       "      <td>0.0</td>\n",
       "      <td>12.800000</td>\n",
       "      <td>0.0</td>\n",
       "      <td>4.000000</td>\n",
       "      <td>10.772600</td>\n",
       "    </tr>\n",
       "    <tr>\n",
       "      <th>75%</th>\n",
       "      <td>374.000000</td>\n",
       "      <td>906.000000</td>\n",
       "      <td>1.000000</td>\n",
       "      <td>37.311900</td>\n",
       "      <td>13.644200</td>\n",
       "      <td>1220.000000</td>\n",
       "      <td>75.757600</td>\n",
       "      <td>0.138814</td>\n",
       "      <td>900.000000</td>\n",
       "      <td>89.820400</td>\n",
       "      <td>0.0</td>\n",
       "      <td>28.240000</td>\n",
       "      <td>211.584000</td>\n",
       "      <td>0.000000</td>\n",
       "      <td>6.000000</td>\n",
       "      <td>0.016694</td>\n",
       "      <td>367.000000</td>\n",
       "      <td>2.000000</td>\n",
       "      <td>2.000000</td>\n",
       "      <td>1.000000</td>\n",
       "      <td>73.000000</td>\n",
       "      <td>0.000000</td>\n",
       "      <td>108.500000</td>\n",
       "      <td>0.070000</td>\n",
       "      <td>767.000000</td>\n",
       "      <td>7.481250</td>\n",
       "      <td>0.000000</td>\n",
       "      <td>2146.000000</td>\n",
       "      <td>0.0</td>\n",
       "      <td>21.900000</td>\n",
       "      <td>0.0</td>\n",
       "      <td>4.000000</td>\n",
       "      <td>15.270900</td>\n",
       "    </tr>\n",
       "    <tr>\n",
       "      <th>max</th>\n",
       "      <td>510.000000</td>\n",
       "      <td>1210.000000</td>\n",
       "      <td>1.000000</td>\n",
       "      <td>101.351000</td>\n",
       "      <td>71.173700</td>\n",
       "      <td>2512.000000</td>\n",
       "      <td>119.048000</td>\n",
       "      <td>27.202200</td>\n",
       "      <td>228812.000000</td>\n",
       "      <td>468.750000</td>\n",
       "      <td>0.0</td>\n",
       "      <td>243.991000</td>\n",
       "      <td>359.995000</td>\n",
       "      <td>4.000000</td>\n",
       "      <td>260.000000</td>\n",
       "      <td>0.023939</td>\n",
       "      <td>513.000000</td>\n",
       "      <td>25.000000</td>\n",
       "      <td>9.000000</td>\n",
       "      <td>1.000000</td>\n",
       "      <td>127.000000</td>\n",
       "      <td>52.400000</td>\n",
       "      <td>129.700000</td>\n",
       "      <td>3.990000</td>\n",
       "      <td>1023.000000</td>\n",
       "      <td>484.488000</td>\n",
       "      <td>1.000000</td>\n",
       "      <td>4892.000000</td>\n",
       "      <td>0.0</td>\n",
       "      <td>82.100000</td>\n",
       "      <td>0.0</td>\n",
       "      <td>7.000000</td>\n",
       "      <td>262.534000</td>\n",
       "    </tr>\n",
       "  </tbody>\n",
       "</table>\n",
       "</div>"
      ],
      "text/plain": [
       "             TrialID         ObsNum        IsAlert             P1  \\\n",
       "count  604329.000000  604329.000000  604329.000000  604329.000000   \n",
       "mean      250.167657     603.841765       0.578799      35.449020   \n",
       "std       145.446164     348.931601       0.493752       7.484629   \n",
       "min         0.000000       0.000000       0.000000     -22.481200   \n",
       "25%       125.000000     302.000000       0.000000      31.758100   \n",
       "50%       250.000000     604.000000       1.000000      34.145100   \n",
       "75%       374.000000     906.000000       1.000000      37.311900   \n",
       "max       510.000000    1210.000000       1.000000     101.351000   \n",
       "\n",
       "                  P2             P3             P4             P5  \\\n",
       "count  604329.000000  604329.000000  604329.000000  604329.000000   \n",
       "mean       11.996525    1026.671035      64.061965       0.178923   \n",
       "std         3.760292     309.277877      19.755950       0.372309   \n",
       "min       -45.629200     504.000000      23.885300       0.038920   \n",
       "25%         9.903540     792.000000      49.180300       0.092110   \n",
       "50%        11.400400    1000.000000      60.000000       0.105083   \n",
       "75%        13.644200    1220.000000      75.757600       0.138814   \n",
       "max        71.173700    2512.000000     119.048000      27.202200   \n",
       "\n",
       "                  P6             P7        P8             E1             E2  \\\n",
       "count  604329.000000  604329.000000  604329.0  604329.000000  604329.000000   \n",
       "mean      845.384610      77.887628       0.0      10.512332     102.790045   \n",
       "std      2505.335141      18.577930       0.0      14.049071     127.258629   \n",
       "min       128.000000       0.262224       0.0       0.000000       0.000000   \n",
       "25%       668.000000      66.666700       0.0       0.000000       0.000000   \n",
       "50%       800.000000      75.000000       0.0       0.000000       0.000000   \n",
       "75%       900.000000      89.820400       0.0      28.240000     211.584000   \n",
       "max    228812.000000     468.750000       0.0     243.991000     359.995000   \n",
       "\n",
       "                  E3             E4             E5             E6  \\\n",
       "count  604329.000000  604329.000000  604329.000000  604329.000000   \n",
       "mean        0.290565      -4.230136       0.016262     358.674738   \n",
       "std         1.006162      35.508596       0.002304      27.399973   \n",
       "min         0.000000    -250.000000       0.008000     260.000000   \n",
       "25%         0.000000      -8.000000       0.015686     348.000000   \n",
       "50%         0.000000       0.000000       0.016001     365.000000   \n",
       "75%         0.000000       6.000000       0.016694     367.000000   \n",
       "max         4.000000     260.000000       0.023939     513.000000   \n",
       "\n",
       "                  E7             E8             E9            E10  \\\n",
       "count  604329.000000  604329.000000  604329.000000  604329.000000   \n",
       "mean        1.757296       1.383058       0.876787      63.311256   \n",
       "std         2.854852       1.608807       0.328681      18.891029   \n",
       "min         0.000000       0.000000       0.000000       0.000000   \n",
       "25%         0.000000       0.000000       1.000000      52.000000   \n",
       "50%         1.000000       1.000000       1.000000      67.000000   \n",
       "75%         2.000000       2.000000       1.000000      73.000000   \n",
       "max        25.000000       9.000000       1.000000     127.000000   \n",
       "\n",
       "                 E11             V1             V2             V3  \\\n",
       "count  604329.000000  604329.000000  604329.000000  604329.000000   \n",
       "mean        1.315265      76.965412      -0.037710     573.786433   \n",
       "std         5.247204      44.387031       0.403896     298.412888   \n",
       "min         0.000000       0.000000      -4.795000     240.000000   \n",
       "25%         0.000000      41.930000      -0.175000     255.000000   \n",
       "50%         0.000000     100.400000       0.000000     511.000000   \n",
       "75%         0.000000     108.500000       0.070000     767.000000   \n",
       "max        52.400000     129.700000       3.990000    1023.000000   \n",
       "\n",
       "                  V4             V5             V6        V7             V8  \\\n",
       "count  604329.000000  604329.000000  604329.000000  604329.0  604329.000000   \n",
       "mean       19.961030       0.179814    1715.688383       0.0      12.710354   \n",
       "std        63.269456       0.384033     618.176470       0.0      11.532085   \n",
       "min         0.000000       0.000000       0.000000       0.0       0.000000   \n",
       "25%         1.487500       0.000000    1259.000000       0.0       0.000000   \n",
       "50%         3.018750       0.000000    1994.000000       0.0      12.800000   \n",
       "75%         7.481250       0.000000    2146.000000       0.0      21.900000   \n",
       "max       484.488000       1.000000    4892.000000       0.0      82.100000   \n",
       "\n",
       "             V9            V10            V11  \n",
       "count  604329.0  604329.000000  604329.000000  \n",
       "mean        0.0       3.312257      11.668277  \n",
       "std         0.0       1.243586       9.934423  \n",
       "min         0.0       1.000000       1.676730  \n",
       "25%         0.0       3.000000       7.947680  \n",
       "50%         0.0       4.000000      10.772600  \n",
       "75%         0.0       4.000000      15.270900  \n",
       "max         0.0       7.000000     262.534000  "
      ]
     },
     "execution_count": 46,
     "metadata": {},
     "output_type": "execute_result"
    }
   ],
   "source": [
    "train_ds_raw.describe()"
   ]
  },
  {
   "cell_type": "code",
   "execution_count": 47,
   "metadata": {},
   "outputs": [],
   "source": [
    "correlation_matrix_raw = train_ds_raw.corr()"
   ]
  },
  {
   "cell_type": "code",
   "execution_count": 48,
   "metadata": {},
   "outputs": [],
   "source": [
    "sns.mpl.rc('figure', figsize=(10,10))"
   ]
  },
  {
   "cell_type": "code",
   "execution_count": 49,
   "metadata": {},
   "outputs": [
    {
     "data": {
      "text/plain": [
       "<matplotlib.axes._subplots.AxesSubplot at 0x105dd3c50>"
      ]
     },
     "execution_count": 49,
     "metadata": {},
     "output_type": "execute_result"
    },
    {
     "data": {
      "image/png": "[encoded data removed]",
      "text/plain": [
       "<Figure size 720x720 with 2 Axes>"
      ]
     },
     "metadata": {},
     "output_type": "display_data"
    }
   ],
   "source": [
    "sns.heatmap(correlation_matrix_raw)"
   ]
  },
  {
   "cell_type": "code",
   "execution_count": 50,
   "metadata": {},
   "outputs": [],
   "source": [
    "train_ds = train_ds_raw.drop(['P8', 'V7', 'V9', 'TrialID'], axis=1)"
   ]
  },
  {
   "cell_type": "code",
   "execution_count": 52,
   "metadata": {},
   "outputs": [],
   "source": [
    "correlation_matrix = train_ds.corr()"
   ]
  },
  {
   "cell_type": "code",
   "execution_count": 53,
   "metadata": {},
   "outputs": [
    {
     "data": {
      "text/plain": [
       "<matplotlib.axes._subplots.AxesSubplot at 0x11a592b70>"
      ]
     },
     "execution_count": 53,
     "metadata": {},
     "output_type": "execute_result"
    },
    {
     "data": {
      "image/png": "[encoded data removed]",
      "text/plain": [
       "<Figure size 720x720 with 2 Axes>"
      ]
     },
     "metadata": {},
     "output_type": "display_data"
    }
   ],
   "source": [
    "sns.heatmap(correlation_matrix)"
   ]
  },
  {
   "cell_type": "code",
   "execution_count": 54,
   "metadata": {
    "scrolled": true
   },
   "outputs": [
    {
     "data": {
      "text/html": [
       "<div>\n",
       "<style scoped>\n",
       "    .dataframe tbody tr th:only-of-type {\n",
       "        vertical-align: middle;\n",
       "    }\n",
       "\n",
       "    .dataframe tbody tr th {\n",
       "        vertical-align: top;\n",
       "    }\n",
       "\n",
       "    .dataframe thead th {\n",
       "        text-align: right;\n",
       "    }\n",
       "</style>\n",
       "<table border=\"1\" class=\"dataframe\">\n",
       "  <thead>\n",
       "    <tr style=\"text-align: right;\">\n",
       "      <th></th>\n",
       "      <th>ObsNum</th>\n",
       "      <th>IsAlert</th>\n",
       "      <th>P1</th>\n",
       "      <th>P2</th>\n",
       "      <th>P3</th>\n",
       "      <th>P4</th>\n",
       "      <th>P5</th>\n",
       "      <th>P6</th>\n",
       "      <th>P7</th>\n",
       "      <th>E1</th>\n",
       "      <th>E2</th>\n",
       "      <th>E3</th>\n",
       "      <th>E4</th>\n",
       "      <th>E5</th>\n",
       "      <th>E6</th>\n",
       "      <th>E7</th>\n",
       "      <th>E8</th>\n",
       "      <th>E9</th>\n",
       "      <th>E10</th>\n",
       "      <th>E11</th>\n",
       "      <th>V1</th>\n",
       "      <th>V2</th>\n",
       "      <th>V3</th>\n",
       "      <th>V4</th>\n",
       "      <th>V5</th>\n",
       "      <th>V6</th>\n",
       "      <th>V8</th>\n",
       "      <th>V10</th>\n",
       "      <th>V11</th>\n",
       "    </tr>\n",
       "  </thead>\n",
       "  <tbody>\n",
       "    <tr>\n",
       "      <th>ObsNum</th>\n",
       "      <td>1.000000</td>\n",
       "      <td>-0.005143</td>\n",
       "      <td>0.018324</td>\n",
       "      <td>-0.001764</td>\n",
       "      <td>0.002199</td>\n",
       "      <td>-0.001191</td>\n",
       "      <td>0.005568</td>\n",
       "      <td>-0.015791</td>\n",
       "      <td>0.003498</td>\n",
       "      <td>-0.000122</td>\n",
       "      <td>-0.003558</td>\n",
       "      <td>0.002931</td>\n",
       "      <td>-0.004580</td>\n",
       "      <td>0.010314</td>\n",
       "      <td>-0.003838</td>\n",
       "      <td>0.002005</td>\n",
       "      <td>0.009400</td>\n",
       "      <td>-0.002779</td>\n",
       "      <td>-0.008684</td>\n",
       "      <td>0.004978</td>\n",
       "      <td>0.004242</td>\n",
       "      <td>0.019009</td>\n",
       "      <td>0.007753</td>\n",
       "      <td>-0.000480</td>\n",
       "      <td>-0.006284</td>\n",
       "      <td>0.003935</td>\n",
       "      <td>0.008191</td>\n",
       "      <td>0.005145</td>\n",
       "      <td>-0.011465</td>\n",
       "    </tr>\n",
       "    <tr>\n",
       "      <th>IsAlert</th>\n",
       "      <td>-0.005143</td>\n",
       "      <td>1.000000</td>\n",
       "      <td>0.018361</td>\n",
       "      <td>0.014383</td>\n",
       "      <td>0.005168</td>\n",
       "      <td>-0.008177</td>\n",
       "      <td>0.038160</td>\n",
       "      <td>-0.000400</td>\n",
       "      <td>0.189796</td>\n",
       "      <td>-0.160830</td>\n",
       "      <td>-0.105495</td>\n",
       "      <td>0.157973</td>\n",
       "      <td>0.047992</td>\n",
       "      <td>-0.067453</td>\n",
       "      <td>-0.189198</td>\n",
       "      <td>-0.329722</td>\n",
       "      <td>-0.283440</td>\n",
       "      <td>0.380353</td>\n",
       "      <td>-0.067051</td>\n",
       "      <td>0.079002</td>\n",
       "      <td>-0.269967</td>\n",
       "      <td>-0.050740</td>\n",
       "      <td>-0.062000</td>\n",
       "      <td>0.097022</td>\n",
       "      <td>0.055429</td>\n",
       "      <td>-0.244150</td>\n",
       "      <td>-0.165550</td>\n",
       "      <td>-0.259607</td>\n",
       "      <td>0.155722</td>\n",
       "    </tr>\n",
       "    <tr>\n",
       "      <th>P1</th>\n",
       "      <td>0.018324</td>\n",
       "      <td>0.018361</td>\n",
       "      <td>1.000000</td>\n",
       "      <td>-0.006674</td>\n",
       "      <td>-0.010317</td>\n",
       "      <td>0.011704</td>\n",
       "      <td>0.010911</td>\n",
       "      <td>0.045429</td>\n",
       "      <td>0.027461</td>\n",
       "      <td>-0.015436</td>\n",
       "      <td>-0.009356</td>\n",
       "      <td>0.024131</td>\n",
       "      <td>-0.010574</td>\n",
       "      <td>-0.006564</td>\n",
       "      <td>-0.004635</td>\n",
       "      <td>-0.013194</td>\n",
       "      <td>-0.010918</td>\n",
       "      <td>0.004688</td>\n",
       "      <td>0.004549</td>\n",
       "      <td>0.015882</td>\n",
       "      <td>-0.025763</td>\n",
       "      <td>-0.021118</td>\n",
       "      <td>0.002551</td>\n",
       "      <td>0.021404</td>\n",
       "      <td>0.051348</td>\n",
       "      <td>-0.019792</td>\n",
       "      <td>-0.029747</td>\n",
       "      <td>-0.004563</td>\n",
       "      <td>0.344636</td>\n",
       "    </tr>\n",
       "    <tr>\n",
       "      <th>P2</th>\n",
       "      <td>-0.001764</td>\n",
       "      <td>0.014383</td>\n",
       "      <td>-0.006674</td>\n",
       "      <td>1.000000</td>\n",
       "      <td>-0.002539</td>\n",
       "      <td>0.002132</td>\n",
       "      <td>0.008390</td>\n",
       "      <td>-0.022003</td>\n",
       "      <td>0.052171</td>\n",
       "      <td>-0.012045</td>\n",
       "      <td>-0.019121</td>\n",
       "      <td>0.062076</td>\n",
       "      <td>0.003529</td>\n",
       "      <td>-0.005140</td>\n",
       "      <td>-0.006843</td>\n",
       "      <td>-0.002058</td>\n",
       "      <td>0.002920</td>\n",
       "      <td>0.002266</td>\n",
       "      <td>0.014589</td>\n",
       "      <td>0.001857</td>\n",
       "      <td>0.011310</td>\n",
       "      <td>0.001779</td>\n",
       "      <td>0.002272</td>\n",
       "      <td>-0.006038</td>\n",
       "      <td>-0.023902</td>\n",
       "      <td>0.010608</td>\n",
       "      <td>0.008257</td>\n",
       "      <td>0.001946</td>\n",
       "      <td>-0.034248</td>\n",
       "    </tr>\n",
       "    <tr>\n",
       "      <th>P3</th>\n",
       "      <td>0.002199</td>\n",
       "      <td>0.005168</td>\n",
       "      <td>-0.010317</td>\n",
       "      <td>-0.002539</td>\n",
       "      <td>1.000000</td>\n",
       "      <td>-0.944435</td>\n",
       "      <td>0.035129</td>\n",
       "      <td>0.012444</td>\n",
       "      <td>-0.006097</td>\n",
       "      <td>0.005795</td>\n",
       "      <td>0.013007</td>\n",
       "      <td>-0.016437</td>\n",
       "      <td>0.000515</td>\n",
       "      <td>0.004496</td>\n",
       "      <td>-0.004508</td>\n",
       "      <td>-0.014086</td>\n",
       "      <td>-0.014135</td>\n",
       "      <td>0.018113</td>\n",
       "      <td>-0.013289</td>\n",
       "      <td>0.007423</td>\n",
       "      <td>-0.011347</td>\n",
       "      <td>0.008651</td>\n",
       "      <td>-0.006380</td>\n",
       "      <td>0.013045</td>\n",
       "      <td>0.001312</td>\n",
       "      <td>-0.010245</td>\n",
       "      <td>-0.007963</td>\n",
       "      <td>-0.009630</td>\n",
       "      <td>-0.009808</td>\n",
       "    </tr>\n",
       "    <tr>\n",
       "      <th>P4</th>\n",
       "      <td>-0.001191</td>\n",
       "      <td>-0.008177</td>\n",
       "      <td>0.011704</td>\n",
       "      <td>0.002132</td>\n",
       "      <td>-0.944435</td>\n",
       "      <td>1.000000</td>\n",
       "      <td>-0.032897</td>\n",
       "      <td>-0.010627</td>\n",
       "      <td>0.007323</td>\n",
       "      <td>-0.004870</td>\n",
       "      <td>-0.010749</td>\n",
       "      <td>0.010696</td>\n",
       "      <td>0.001580</td>\n",
       "      <td>-0.003086</td>\n",
       "      <td>0.004230</td>\n",
       "      <td>0.013755</td>\n",
       "      <td>0.012959</td>\n",
       "      <td>-0.016615</td>\n",
       "      <td>0.010501</td>\n",
       "      <td>-0.005681</td>\n",
       "      <td>0.010061</td>\n",
       "      <td>-0.006926</td>\n",
       "      <td>0.008049</td>\n",
       "      <td>-0.010905</td>\n",
       "      <td>0.001705</td>\n",
       "      <td>0.008348</td>\n",
       "      <td>0.005379</td>\n",
       "      <td>0.008906</td>\n",
       "      <td>0.009841</td>\n",
       "    </tr>\n",
       "    <tr>\n",
       "      <th>P5</th>\n",
       "      <td>0.005568</td>\n",
       "      <td>0.038160</td>\n",
       "      <td>0.010911</td>\n",
       "      <td>0.008390</td>\n",
       "      <td>0.035129</td>\n",
       "      <td>-0.032897</td>\n",
       "      <td>1.000000</td>\n",
       "      <td>0.002314</td>\n",
       "      <td>-0.023628</td>\n",
       "      <td>-0.062955</td>\n",
       "      <td>-0.033420</td>\n",
       "      <td>0.069444</td>\n",
       "      <td>-0.002757</td>\n",
       "      <td>-0.020218</td>\n",
       "      <td>-0.006387</td>\n",
       "      <td>-0.032576</td>\n",
       "      <td>-0.048551</td>\n",
       "      <td>0.005177</td>\n",
       "      <td>-0.074753</td>\n",
       "      <td>0.028216</td>\n",
       "      <td>-0.054428</td>\n",
       "      <td>0.026232</td>\n",
       "      <td>0.005371</td>\n",
       "      <td>0.070290</td>\n",
       "      <td>-0.016671</td>\n",
       "      <td>-0.046353</td>\n",
       "      <td>-0.023359</td>\n",
       "      <td>-0.022193</td>\n",
       "      <td>-0.004897</td>\n",
       "    </tr>\n",
       "    <tr>\n",
       "      <th>P6</th>\n",
       "      <td>-0.015791</td>\n",
       "      <td>-0.000400</td>\n",
       "      <td>0.045429</td>\n",
       "      <td>-0.022003</td>\n",
       "      <td>0.012444</td>\n",
       "      <td>-0.010627</td>\n",
       "      <td>0.002314</td>\n",
       "      <td>1.000000</td>\n",
       "      <td>-0.125580</td>\n",
       "      <td>-0.006273</td>\n",
       "      <td>0.006025</td>\n",
       "      <td>-0.025157</td>\n",
       "      <td>-0.001288</td>\n",
       "      <td>-0.007514</td>\n",
       "      <td>0.011529</td>\n",
       "      <td>-0.006923</td>\n",
       "      <td>-0.008941</td>\n",
       "      <td>-0.005549</td>\n",
       "      <td>-0.034470</td>\n",
       "      <td>-0.008939</td>\n",
       "      <td>-0.024449</td>\n",
       "      <td>-0.010418</td>\n",
       "      <td>-0.004996</td>\n",
       "      <td>0.019121</td>\n",
       "      <td>0.029222</td>\n",
       "      <td>-0.025728</td>\n",
       "      <td>-0.016850</td>\n",
       "      <td>-0.002163</td>\n",
       "      <td>0.012783</td>\n",
       "    </tr>\n",
       "    <tr>\n",
       "      <th>P7</th>\n",
       "      <td>0.003498</td>\n",
       "      <td>0.189796</td>\n",
       "      <td>0.027461</td>\n",
       "      <td>0.052171</td>\n",
       "      <td>-0.006097</td>\n",
       "      <td>0.007323</td>\n",
       "      <td>-0.023628</td>\n",
       "      <td>-0.125580</td>\n",
       "      <td>1.000000</td>\n",
       "      <td>-0.087373</td>\n",
       "      <td>-0.091327</td>\n",
       "      <td>0.294528</td>\n",
       "      <td>0.026627</td>\n",
       "      <td>0.051338</td>\n",
       "      <td>-0.105148</td>\n",
       "      <td>-0.042634</td>\n",
       "      <td>0.022973</td>\n",
       "      <td>0.045725</td>\n",
       "      <td>0.109924</td>\n",
       "      <td>0.084846</td>\n",
       "      <td>-0.043512</td>\n",
       "      <td>0.025850</td>\n",
       "      <td>0.007986</td>\n",
       "      <td>0.037711</td>\n",
       "      <td>0.024499</td>\n",
       "      <td>-0.020696</td>\n",
       "      <td>-0.008450</td>\n",
       "      <td>-0.041814</td>\n",
       "      <td>0.019360</td>\n",
       "    </tr>\n",
       "    <tr>\n",
       "      <th>E1</th>\n",
       "      <td>-0.000122</td>\n",
       "      <td>-0.160830</td>\n",
       "      <td>-0.015436</td>\n",
       "      <td>-0.012045</td>\n",
       "      <td>0.005795</td>\n",
       "      <td>-0.004870</td>\n",
       "      <td>-0.062955</td>\n",
       "      <td>-0.006273</td>\n",
       "      <td>-0.087373</td>\n",
       "      <td>1.000000</td>\n",
       "      <td>0.725684</td>\n",
       "      <td>-0.210994</td>\n",
       "      <td>-0.001312</td>\n",
       "      <td>0.046620</td>\n",
       "      <td>0.011380</td>\n",
       "      <td>0.114083</td>\n",
       "      <td>0.092611</td>\n",
       "      <td>-0.066801</td>\n",
       "      <td>0.176868</td>\n",
       "      <td>-0.088023</td>\n",
       "      <td>0.430603</td>\n",
       "      <td>0.068999</td>\n",
       "      <td>0.045605</td>\n",
       "      <td>-0.185484</td>\n",
       "      <td>-0.114477</td>\n",
       "      <td>0.399214</td>\n",
       "      <td>0.227876</td>\n",
       "      <td>0.382013</td>\n",
       "      <td>-0.070397</td>\n",
       "    </tr>\n",
       "    <tr>\n",
       "      <th>E2</th>\n",
       "      <td>-0.003558</td>\n",
       "      <td>-0.105495</td>\n",
       "      <td>-0.009356</td>\n",
       "      <td>-0.019121</td>\n",
       "      <td>0.013007</td>\n",
       "      <td>-0.010749</td>\n",
       "      <td>-0.033420</td>\n",
       "      <td>0.006025</td>\n",
       "      <td>-0.091327</td>\n",
       "      <td>0.725684</td>\n",
       "      <td>1.000000</td>\n",
       "      <td>-0.230564</td>\n",
       "      <td>-0.003982</td>\n",
       "      <td>0.041188</td>\n",
       "      <td>0.044847</td>\n",
       "      <td>0.040890</td>\n",
       "      <td>0.011876</td>\n",
       "      <td>-0.003062</td>\n",
       "      <td>-0.001179</td>\n",
       "      <td>-0.052130</td>\n",
       "      <td>0.094731</td>\n",
       "      <td>0.029370</td>\n",
       "      <td>-0.003652</td>\n",
       "      <td>-0.060586</td>\n",
       "      <td>0.001465</td>\n",
       "      <td>0.083946</td>\n",
       "      <td>0.044731</td>\n",
       "      <td>0.081133</td>\n",
       "      <td>-0.061395</td>\n",
       "    </tr>\n",
       "    <tr>\n",
       "      <th>E3</th>\n",
       "      <td>0.002931</td>\n",
       "      <td>0.157973</td>\n",
       "      <td>0.024131</td>\n",
       "      <td>0.062076</td>\n",
       "      <td>-0.016437</td>\n",
       "      <td>0.010696</td>\n",
       "      <td>0.069444</td>\n",
       "      <td>-0.025157</td>\n",
       "      <td>0.294528</td>\n",
       "      <td>-0.210994</td>\n",
       "      <td>-0.230564</td>\n",
       "      <td>1.000000</td>\n",
       "      <td>0.016046</td>\n",
       "      <td>-0.121065</td>\n",
       "      <td>-0.165577</td>\n",
       "      <td>-0.075357</td>\n",
       "      <td>0.000226</td>\n",
       "      <td>0.016521</td>\n",
       "      <td>0.035559</td>\n",
       "      <td>0.011117</td>\n",
       "      <td>0.015578</td>\n",
       "      <td>-0.046786</td>\n",
       "      <td>0.048736</td>\n",
       "      <td>0.140578</td>\n",
       "      <td>-0.079563</td>\n",
       "      <td>0.006129</td>\n",
       "      <td>0.012401</td>\n",
       "      <td>0.042666</td>\n",
       "      <td>0.115566</td>\n",
       "    </tr>\n",
       "    <tr>\n",
       "      <th>E4</th>\n",
       "      <td>-0.004580</td>\n",
       "      <td>0.047992</td>\n",
       "      <td>-0.010574</td>\n",
       "      <td>0.003529</td>\n",
       "      <td>0.000515</td>\n",
       "      <td>0.001580</td>\n",
       "      <td>-0.002757</td>\n",
       "      <td>-0.001288</td>\n",
       "      <td>0.026627</td>\n",
       "      <td>-0.001312</td>\n",
       "      <td>-0.003982</td>\n",
       "      <td>0.016046</td>\n",
       "      <td>1.000000</td>\n",
       "      <td>0.118974</td>\n",
       "      <td>0.060057</td>\n",
       "      <td>-0.202970</td>\n",
       "      <td>-0.119815</td>\n",
       "      <td>0.156194</td>\n",
       "      <td>0.013668</td>\n",
       "      <td>-0.015727</td>\n",
       "      <td>0.002181</td>\n",
       "      <td>-0.002248</td>\n",
       "      <td>-0.007556</td>\n",
       "      <td>0.009405</td>\n",
       "      <td>-0.006332</td>\n",
       "      <td>-0.004937</td>\n",
       "      <td>-0.014779</td>\n",
       "      <td>0.000264</td>\n",
       "      <td>-0.003311</td>\n",
       "    </tr>\n",
       "    <tr>\n",
       "      <th>E5</th>\n",
       "      <td>0.010314</td>\n",
       "      <td>-0.067453</td>\n",
       "      <td>-0.006564</td>\n",
       "      <td>-0.005140</td>\n",
       "      <td>0.004496</td>\n",
       "      <td>-0.003086</td>\n",
       "      <td>-0.020218</td>\n",
       "      <td>-0.007514</td>\n",
       "      <td>0.051338</td>\n",
       "      <td>0.046620</td>\n",
       "      <td>0.041188</td>\n",
       "      <td>-0.121065</td>\n",
       "      <td>0.118974</td>\n",
       "      <td>1.000000</td>\n",
       "      <td>0.014476</td>\n",
       "      <td>-0.035202</td>\n",
       "      <td>0.021078</td>\n",
       "      <td>0.057401</td>\n",
       "      <td>0.037778</td>\n",
       "      <td>0.039560</td>\n",
       "      <td>0.079413</td>\n",
       "      <td>0.025036</td>\n",
       "      <td>-0.016252</td>\n",
       "      <td>-0.152005</td>\n",
       "      <td>-0.033109</td>\n",
       "      <td>0.078383</td>\n",
       "      <td>0.057884</td>\n",
       "      <td>0.083841</td>\n",
       "      <td>-0.004646</td>\n",
       "    </tr>\n",
       "    <tr>\n",
       "      <th>E6</th>\n",
       "      <td>-0.003838</td>\n",
       "      <td>-0.189198</td>\n",
       "      <td>-0.004635</td>\n",
       "      <td>-0.006843</td>\n",
       "      <td>-0.004508</td>\n",
       "      <td>0.004230</td>\n",
       "      <td>-0.006387</td>\n",
       "      <td>0.011529</td>\n",
       "      <td>-0.105148</td>\n",
       "      <td>0.011380</td>\n",
       "      <td>0.044847</td>\n",
       "      <td>-0.165577</td>\n",
       "      <td>0.060057</td>\n",
       "      <td>0.014476</td>\n",
       "      <td>1.000000</td>\n",
       "      <td>0.248943</td>\n",
       "      <td>0.098840</td>\n",
       "      <td>-0.170502</td>\n",
       "      <td>0.011477</td>\n",
       "      <td>0.001127</td>\n",
       "      <td>-0.049803</td>\n",
       "      <td>-0.037068</td>\n",
       "      <td>-0.005844</td>\n",
       "      <td>0.086723</td>\n",
       "      <td>0.013194</td>\n",
       "      <td>-0.043660</td>\n",
       "      <td>-0.031359</td>\n",
       "      <td>-0.046781</td>\n",
       "      <td>-0.009406</td>\n",
       "    </tr>\n",
       "    <tr>\n",
       "      <th>E7</th>\n",
       "      <td>0.002005</td>\n",
       "      <td>-0.329722</td>\n",
       "      <td>-0.013194</td>\n",
       "      <td>-0.002058</td>\n",
       "      <td>-0.014086</td>\n",
       "      <td>0.013755</td>\n",
       "      <td>-0.032576</td>\n",
       "      <td>-0.006923</td>\n",
       "      <td>-0.042634</td>\n",
       "      <td>0.114083</td>\n",
       "      <td>0.040890</td>\n",
       "      <td>-0.075357</td>\n",
       "      <td>-0.202970</td>\n",
       "      <td>-0.035202</td>\n",
       "      <td>0.248943</td>\n",
       "      <td>1.000000</td>\n",
       "      <td>0.635992</td>\n",
       "      <td>-0.744275</td>\n",
       "      <td>0.312870</td>\n",
       "      <td>-0.031910</td>\n",
       "      <td>0.188332</td>\n",
       "      <td>0.020010</td>\n",
       "      <td>0.023965</td>\n",
       "      <td>-0.048397</td>\n",
       "      <td>-0.058715</td>\n",
       "      <td>0.186425</td>\n",
       "      <td>0.128932</td>\n",
       "      <td>0.157692</td>\n",
       "      <td>-0.004873</td>\n",
       "    </tr>\n",
       "    <tr>\n",
       "      <th>E8</th>\n",
       "      <td>0.009400</td>\n",
       "      <td>-0.283440</td>\n",
       "      <td>-0.010918</td>\n",
       "      <td>0.002920</td>\n",
       "      <td>-0.014135</td>\n",
       "      <td>0.012959</td>\n",
       "      <td>-0.048551</td>\n",
       "      <td>-0.008941</td>\n",
       "      <td>0.022973</td>\n",
       "      <td>0.092611</td>\n",
       "      <td>0.011876</td>\n",
       "      <td>0.000226</td>\n",
       "      <td>-0.119815</td>\n",
       "      <td>0.021078</td>\n",
       "      <td>0.098840</td>\n",
       "      <td>0.635992</td>\n",
       "      <td>1.000000</td>\n",
       "      <td>-0.594516</td>\n",
       "      <td>0.311184</td>\n",
       "      <td>-0.016692</td>\n",
       "      <td>0.202976</td>\n",
       "      <td>0.036510</td>\n",
       "      <td>0.025184</td>\n",
       "      <td>-0.074523</td>\n",
       "      <td>-0.077849</td>\n",
       "      <td>0.194538</td>\n",
       "      <td>0.126790</td>\n",
       "      <td>0.179493</td>\n",
       "      <td>-0.008762</td>\n",
       "    </tr>\n",
       "    <tr>\n",
       "      <th>E9</th>\n",
       "      <td>-0.002779</td>\n",
       "      <td>0.380353</td>\n",
       "      <td>0.004688</td>\n",
       "      <td>0.002266</td>\n",
       "      <td>0.018113</td>\n",
       "      <td>-0.016615</td>\n",
       "      <td>0.005177</td>\n",
       "      <td>-0.005549</td>\n",
       "      <td>0.045725</td>\n",
       "      <td>-0.066801</td>\n",
       "      <td>-0.003062</td>\n",
       "      <td>0.016521</td>\n",
       "      <td>0.156194</td>\n",
       "      <td>0.057401</td>\n",
       "      <td>-0.170502</td>\n",
       "      <td>-0.744275</td>\n",
       "      <td>-0.594516</td>\n",
       "      <td>1.000000</td>\n",
       "      <td>-0.313360</td>\n",
       "      <td>0.031089</td>\n",
       "      <td>-0.129286</td>\n",
       "      <td>-0.009856</td>\n",
       "      <td>-0.021323</td>\n",
       "      <td>0.013255</td>\n",
       "      <td>0.063281</td>\n",
       "      <td>-0.128772</td>\n",
       "      <td>-0.093210</td>\n",
       "      <td>-0.111997</td>\n",
       "      <td>-0.019344</td>\n",
       "    </tr>\n",
       "    <tr>\n",
       "      <th>E10</th>\n",
       "      <td>-0.008684</td>\n",
       "      <td>-0.067051</td>\n",
       "      <td>0.004549</td>\n",
       "      <td>0.014589</td>\n",
       "      <td>-0.013289</td>\n",
       "      <td>0.010501</td>\n",
       "      <td>-0.074753</td>\n",
       "      <td>-0.034470</td>\n",
       "      <td>0.109924</td>\n",
       "      <td>0.176868</td>\n",
       "      <td>-0.001179</td>\n",
       "      <td>0.035559</td>\n",
       "      <td>0.013668</td>\n",
       "      <td>0.037778</td>\n",
       "      <td>0.011477</td>\n",
       "      <td>0.312870</td>\n",
       "      <td>0.311184</td>\n",
       "      <td>-0.313360</td>\n",
       "      <td>1.000000</td>\n",
       "      <td>-0.031277</td>\n",
       "      <td>0.376850</td>\n",
       "      <td>0.075143</td>\n",
       "      <td>0.014493</td>\n",
       "      <td>-0.292688</td>\n",
       "      <td>-0.188536</td>\n",
       "      <td>0.364547</td>\n",
       "      <td>0.225304</td>\n",
       "      <td>0.328938</td>\n",
       "      <td>0.068841</td>\n",
       "    </tr>\n",
       "    <tr>\n",
       "      <th>E11</th>\n",
       "      <td>0.004978</td>\n",
       "      <td>0.079002</td>\n",
       "      <td>0.015882</td>\n",
       "      <td>0.001857</td>\n",
       "      <td>0.007423</td>\n",
       "      <td>-0.005681</td>\n",
       "      <td>0.028216</td>\n",
       "      <td>-0.008939</td>\n",
       "      <td>0.084846</td>\n",
       "      <td>-0.088023</td>\n",
       "      <td>-0.052130</td>\n",
       "      <td>0.011117</td>\n",
       "      <td>-0.015727</td>\n",
       "      <td>0.039560</td>\n",
       "      <td>0.001127</td>\n",
       "      <td>-0.031910</td>\n",
       "      <td>-0.016692</td>\n",
       "      <td>0.031089</td>\n",
       "      <td>-0.031277</td>\n",
       "      <td>1.000000</td>\n",
       "      <td>-0.273714</td>\n",
       "      <td>-0.009588</td>\n",
       "      <td>0.023545</td>\n",
       "      <td>0.056647</td>\n",
       "      <td>0.109642</td>\n",
       "      <td>-0.331563</td>\n",
       "      <td>-0.276242</td>\n",
       "      <td>-0.154770</td>\n",
       "      <td>0.023469</td>\n",
       "    </tr>\n",
       "    <tr>\n",
       "      <th>V1</th>\n",
       "      <td>0.004242</td>\n",
       "      <td>-0.269967</td>\n",
       "      <td>-0.025763</td>\n",
       "      <td>0.011310</td>\n",
       "      <td>-0.011347</td>\n",
       "      <td>0.010061</td>\n",
       "      <td>-0.054428</td>\n",
       "      <td>-0.024449</td>\n",
       "      <td>-0.043512</td>\n",
       "      <td>0.430603</td>\n",
       "      <td>0.094731</td>\n",
       "      <td>0.015578</td>\n",
       "      <td>0.002181</td>\n",
       "      <td>0.079413</td>\n",
       "      <td>-0.049803</td>\n",
       "      <td>0.188332</td>\n",
       "      <td>0.202976</td>\n",
       "      <td>-0.129286</td>\n",
       "      <td>0.376850</td>\n",
       "      <td>-0.273714</td>\n",
       "      <td>1.000000</td>\n",
       "      <td>0.173796</td>\n",
       "      <td>0.113710</td>\n",
       "      <td>-0.435652</td>\n",
       "      <td>-0.309047</td>\n",
       "      <td>0.937334</td>\n",
       "      <td>0.572335</td>\n",
       "      <td>0.910776</td>\n",
       "      <td>-0.095577</td>\n",
       "    </tr>\n",
       "    <tr>\n",
       "      <th>V2</th>\n",
       "      <td>0.019009</td>\n",
       "      <td>-0.050740</td>\n",
       "      <td>-0.021118</td>\n",
       "      <td>0.001779</td>\n",
       "      <td>0.008651</td>\n",
       "      <td>-0.006926</td>\n",
       "      <td>0.026232</td>\n",
       "      <td>-0.010418</td>\n",
       "      <td>0.025850</td>\n",
       "      <td>0.068999</td>\n",
       "      <td>0.029370</td>\n",
       "      <td>-0.046786</td>\n",
       "      <td>-0.002248</td>\n",
       "      <td>0.025036</td>\n",
       "      <td>-0.037068</td>\n",
       "      <td>0.020010</td>\n",
       "      <td>0.036510</td>\n",
       "      <td>-0.009856</td>\n",
       "      <td>0.075143</td>\n",
       "      <td>-0.009588</td>\n",
       "      <td>0.173796</td>\n",
       "      <td>1.000000</td>\n",
       "      <td>-0.029865</td>\n",
       "      <td>-0.164682</td>\n",
       "      <td>-0.406453</td>\n",
       "      <td>0.179933</td>\n",
       "      <td>0.107099</td>\n",
       "      <td>0.153246</td>\n",
       "      <td>-0.043922</td>\n",
       "    </tr>\n",
       "    <tr>\n",
       "      <th>V3</th>\n",
       "      <td>0.007753</td>\n",
       "      <td>-0.062000</td>\n",
       "      <td>0.002551</td>\n",
       "      <td>0.002272</td>\n",
       "      <td>-0.006380</td>\n",
       "      <td>0.008049</td>\n",
       "      <td>0.005371</td>\n",
       "      <td>-0.004996</td>\n",
       "      <td>0.007986</td>\n",
       "      <td>0.045605</td>\n",
       "      <td>-0.003652</td>\n",
       "      <td>0.048736</td>\n",
       "      <td>-0.007556</td>\n",
       "      <td>-0.016252</td>\n",
       "      <td>-0.005844</td>\n",
       "      <td>0.023965</td>\n",
       "      <td>0.025184</td>\n",
       "      <td>-0.021323</td>\n",
       "      <td>0.014493</td>\n",
       "      <td>0.023545</td>\n",
       "      <td>0.113710</td>\n",
       "      <td>-0.029865</td>\n",
       "      <td>1.000000</td>\n",
       "      <td>0.094807</td>\n",
       "      <td>0.034938</td>\n",
       "      <td>0.110503</td>\n",
       "      <td>0.078252</td>\n",
       "      <td>0.128663</td>\n",
       "      <td>-0.000325</td>\n",
       "    </tr>\n",
       "    <tr>\n",
       "      <th>V4</th>\n",
       "      <td>-0.000480</td>\n",
       "      <td>0.097022</td>\n",
       "      <td>0.021404</td>\n",
       "      <td>-0.006038</td>\n",
       "      <td>0.013045</td>\n",
       "      <td>-0.010905</td>\n",
       "      <td>0.070290</td>\n",
       "      <td>0.019121</td>\n",
       "      <td>0.037711</td>\n",
       "      <td>-0.185484</td>\n",
       "      <td>-0.060586</td>\n",
       "      <td>0.140578</td>\n",
       "      <td>0.009405</td>\n",
       "      <td>-0.152005</td>\n",
       "      <td>0.086723</td>\n",
       "      <td>-0.048397</td>\n",
       "      <td>-0.074523</td>\n",
       "      <td>0.013255</td>\n",
       "      <td>-0.292688</td>\n",
       "      <td>0.056647</td>\n",
       "      <td>-0.435652</td>\n",
       "      <td>-0.164682</td>\n",
       "      <td>0.094807</td>\n",
       "      <td>1.000000</td>\n",
       "      <td>0.087289</td>\n",
       "      <td>-0.405763</td>\n",
       "      <td>-0.250265</td>\n",
       "      <td>-0.386108</td>\n",
       "      <td>0.081574</td>\n",
       "    </tr>\n",
       "    <tr>\n",
       "      <th>V5</th>\n",
       "      <td>-0.006284</td>\n",
       "      <td>0.055429</td>\n",
       "      <td>0.051348</td>\n",
       "      <td>-0.023902</td>\n",
       "      <td>0.001312</td>\n",
       "      <td>0.001705</td>\n",
       "      <td>-0.016671</td>\n",
       "      <td>0.029222</td>\n",
       "      <td>0.024499</td>\n",
       "      <td>-0.114477</td>\n",
       "      <td>0.001465</td>\n",
       "      <td>-0.079563</td>\n",
       "      <td>-0.006332</td>\n",
       "      <td>-0.033109</td>\n",
       "      <td>0.013194</td>\n",
       "      <td>-0.058715</td>\n",
       "      <td>-0.077849</td>\n",
       "      <td>0.063281</td>\n",
       "      <td>-0.188536</td>\n",
       "      <td>0.109642</td>\n",
       "      <td>-0.309047</td>\n",
       "      <td>-0.406453</td>\n",
       "      <td>0.034938</td>\n",
       "      <td>0.087289</td>\n",
       "      <td>1.000000</td>\n",
       "      <td>-0.276837</td>\n",
       "      <td>-0.162438</td>\n",
       "      <td>-0.244230</td>\n",
       "      <td>0.033800</td>\n",
       "    </tr>\n",
       "    <tr>\n",
       "      <th>V6</th>\n",
       "      <td>0.003935</td>\n",
       "      <td>-0.244150</td>\n",
       "      <td>-0.019792</td>\n",
       "      <td>0.010608</td>\n",
       "      <td>-0.010245</td>\n",
       "      <td>0.008348</td>\n",
       "      <td>-0.046353</td>\n",
       "      <td>-0.025728</td>\n",
       "      <td>-0.020696</td>\n",
       "      <td>0.399214</td>\n",
       "      <td>0.083946</td>\n",
       "      <td>0.006129</td>\n",
       "      <td>-0.004937</td>\n",
       "      <td>0.078383</td>\n",
       "      <td>-0.043660</td>\n",
       "      <td>0.186425</td>\n",
       "      <td>0.194538</td>\n",
       "      <td>-0.128772</td>\n",
       "      <td>0.364547</td>\n",
       "      <td>-0.331563</td>\n",
       "      <td>0.937334</td>\n",
       "      <td>0.179933</td>\n",
       "      <td>0.110503</td>\n",
       "      <td>-0.405763</td>\n",
       "      <td>-0.276837</td>\n",
       "      <td>1.000000</td>\n",
       "      <td>0.658544</td>\n",
       "      <td>0.822076</td>\n",
       "      <td>-0.089677</td>\n",
       "    </tr>\n",
       "    <tr>\n",
       "      <th>V8</th>\n",
       "      <td>0.008191</td>\n",
       "      <td>-0.165550</td>\n",
       "      <td>-0.029747</td>\n",
       "      <td>0.008257</td>\n",
       "      <td>-0.007963</td>\n",
       "      <td>0.005379</td>\n",
       "      <td>-0.023359</td>\n",
       "      <td>-0.016850</td>\n",
       "      <td>-0.008450</td>\n",
       "      <td>0.227876</td>\n",
       "      <td>0.044731</td>\n",
       "      <td>0.012401</td>\n",
       "      <td>-0.014779</td>\n",
       "      <td>0.057884</td>\n",
       "      <td>-0.031359</td>\n",
       "      <td>0.128932</td>\n",
       "      <td>0.126790</td>\n",
       "      <td>-0.093210</td>\n",
       "      <td>0.225304</td>\n",
       "      <td>-0.276242</td>\n",
       "      <td>0.572335</td>\n",
       "      <td>0.107099</td>\n",
       "      <td>0.078252</td>\n",
       "      <td>-0.250265</td>\n",
       "      <td>-0.162438</td>\n",
       "      <td>0.658544</td>\n",
       "      <td>1.000000</td>\n",
       "      <td>0.513956</td>\n",
       "      <td>-0.056313</td>\n",
       "    </tr>\n",
       "    <tr>\n",
       "      <th>V10</th>\n",
       "      <td>0.005145</td>\n",
       "      <td>-0.259607</td>\n",
       "      <td>-0.004563</td>\n",
       "      <td>0.001946</td>\n",
       "      <td>-0.009630</td>\n",
       "      <td>0.008906</td>\n",
       "      <td>-0.022193</td>\n",
       "      <td>-0.002163</td>\n",
       "      <td>-0.041814</td>\n",
       "      <td>0.382013</td>\n",
       "      <td>0.081133</td>\n",
       "      <td>0.042666</td>\n",
       "      <td>0.000264</td>\n",
       "      <td>0.083841</td>\n",
       "      <td>-0.046781</td>\n",
       "      <td>0.157692</td>\n",
       "      <td>0.179493</td>\n",
       "      <td>-0.111997</td>\n",
       "      <td>0.328938</td>\n",
       "      <td>-0.154770</td>\n",
       "      <td>0.910776</td>\n",
       "      <td>0.153246</td>\n",
       "      <td>0.128663</td>\n",
       "      <td>-0.386108</td>\n",
       "      <td>-0.244230</td>\n",
       "      <td>0.822076</td>\n",
       "      <td>0.513956</td>\n",
       "      <td>1.000000</td>\n",
       "      <td>-0.055327</td>\n",
       "    </tr>\n",
       "    <tr>\n",
       "      <th>V11</th>\n",
       "      <td>-0.011465</td>\n",
       "      <td>0.155722</td>\n",
       "      <td>0.344636</td>\n",
       "      <td>-0.034248</td>\n",
       "      <td>-0.009808</td>\n",
       "      <td>0.009841</td>\n",
       "      <td>-0.004897</td>\n",
       "      <td>0.012783</td>\n",
       "      <td>0.019360</td>\n",
       "      <td>-0.070397</td>\n",
       "      <td>-0.061395</td>\n",
       "      <td>0.115566</td>\n",
       "      <td>-0.003311</td>\n",
       "      <td>-0.004646</td>\n",
       "      <td>-0.009406</td>\n",
       "      <td>-0.004873</td>\n",
       "      <td>-0.008762</td>\n",
       "      <td>-0.019344</td>\n",
       "      <td>0.068841</td>\n",
       "      <td>0.023469</td>\n",
       "      <td>-0.095577</td>\n",
       "      <td>-0.043922</td>\n",
       "      <td>-0.000325</td>\n",
       "      <td>0.081574</td>\n",
       "      <td>0.033800</td>\n",
       "      <td>-0.089677</td>\n",
       "      <td>-0.056313</td>\n",
       "      <td>-0.055327</td>\n",
       "      <td>1.000000</td>\n",
       "    </tr>\n",
       "  </tbody>\n",
       "</table>\n",
       "</div>"
      ],
      "text/plain": [
       "           ObsNum   IsAlert        P1        P2        P3        P4        P5  \\\n",
       "ObsNum   1.000000 -0.005143  0.018324 -0.001764  0.002199 -0.001191  0.005568   \n",
       "IsAlert -0.005143  1.000000  0.018361  0.014383  0.005168 -0.008177  0.038160   \n",
       "P1       0.018324  0.018361  1.000000 -0.006674 -0.010317  0.011704  0.010911   \n",
       "P2      -0.001764  0.014383 -0.006674  1.000000 -0.002539  0.002132  0.008390   \n",
       "P3       0.002199  0.005168 -0.010317 -0.002539  1.000000 -0.944435  0.035129   \n",
       "P4      -0.001191 -0.008177  0.011704  0.002132 -0.944435  1.000000 -0.032897   \n",
       "P5       0.005568  0.038160  0.010911  0.008390  0.035129 -0.032897  1.000000   \n",
       "P6      -0.015791 -0.000400  0.045429 -0.022003  0.012444 -0.010627  0.002314   \n",
       "P7       0.003498  0.189796  0.027461  0.052171 -0.006097  0.007323 -0.023628   \n",
       "E1      -0.000122 -0.160830 -0.015436 -0.012045  0.005795 -0.004870 -0.062955   \n",
       "E2      -0.003558 -0.105495 -0.009356 -0.019121  0.013007 -0.010749 -0.033420   \n",
       "E3       0.002931  0.157973  0.024131  0.062076 -0.016437  0.010696  0.069444   \n",
       "E4      -0.004580  0.047992 -0.010574  0.003529  0.000515  0.001580 -0.002757   \n",
       "E5       0.010314 -0.067453 -0.006564 -0.005140  0.004496 -0.003086 -0.020218   \n",
       "E6      -0.003838 -0.189198 -0.004635 -0.006843 -0.004508  0.004230 -0.006387   \n",
       "E7       0.002005 -0.329722 -0.013194 -0.002058 -0.014086  0.013755 -0.032576   \n",
       "E8       0.009400 -0.283440 -0.010918  0.002920 -0.014135  0.012959 -0.048551   \n",
       "E9      -0.002779  0.380353  0.004688  0.002266  0.018113 -0.016615  0.005177   \n",
       "E10     -0.008684 -0.067051  0.004549  0.014589 -0.013289  0.010501 -0.074753   \n",
       "E11      0.004978  0.079002  0.015882  0.001857  0.007423 -0.005681  0.028216   \n",
       "V1       0.004242 -0.269967 -0.025763  0.011310 -0.011347  0.010061 -0.054428   \n",
       "V2       0.019009 -0.050740 -0.021118  0.001779  0.008651 -0.006926  0.026232   \n",
       "V3       0.007753 -0.062000  0.002551  0.002272 -0.006380  0.008049  0.005371   \n",
       "V4      -0.000480  0.097022  0.021404 -0.006038  0.013045 -0.010905  0.070290   \n",
       "V5      -0.006284  0.055429  0.051348 -0.023902  0.001312  0.001705 -0.016671   \n",
       "V6       0.003935 -0.244150 -0.019792  0.010608 -0.010245  0.008348 -0.046353   \n",
       "V8       0.008191 -0.165550 -0.029747  0.008257 -0.007963  0.005379 -0.023359   \n",
       "V10      0.005145 -0.259607 -0.004563  0.001946 -0.009630  0.008906 -0.022193   \n",
       "V11     -0.011465  0.155722  0.344636 -0.034248 -0.009808  0.009841 -0.004897   \n",
       "\n",
       "               P6        P7        E1        E2        E3        E4        E5  \\\n",
       "ObsNum  -0.015791  0.003498 -0.000122 -0.003558  0.002931 -0.004580  0.010314   \n",
       "IsAlert -0.000400  0.189796 -0.160830 -0.105495  0.157973  0.047992 -0.067453   \n",
       "P1       0.045429  0.027461 -0.015436 -0.009356  0.024131 -0.010574 -0.006564   \n",
       "P2      -0.022003  0.052171 -0.012045 -0.019121  0.062076  0.003529 -0.005140   \n",
       "P3       0.012444 -0.006097  0.005795  0.013007 -0.016437  0.000515  0.004496   \n",
       "P4      -0.010627  0.007323 -0.004870 -0.010749  0.010696  0.001580 -0.003086   \n",
       "P5       0.002314 -0.023628 -0.062955 -0.033420  0.069444 -0.002757 -0.020218   \n",
       "P6       1.000000 -0.125580 -0.006273  0.006025 -0.025157 -0.001288 -0.007514   \n",
       "P7      -0.125580  1.000000 -0.087373 -0.091327  0.294528  0.026627  0.051338   \n",
       "E1      -0.006273 -0.087373  1.000000  0.725684 -0.210994 -0.001312  0.046620   \n",
       "E2       0.006025 -0.091327  0.725684  1.000000 -0.230564 -0.003982  0.041188   \n",
       "E3      -0.025157  0.294528 -0.210994 -0.230564  1.000000  0.016046 -0.121065   \n",
       "E4      -0.001288  0.026627 -0.001312 -0.003982  0.016046  1.000000  0.118974   \n",
       "E5      -0.007514  0.051338  0.046620  0.041188 -0.121065  0.118974  1.000000   \n",
       "E6       0.011529 -0.105148  0.011380  0.044847 -0.165577  0.060057  0.014476   \n",
       "E7      -0.006923 -0.042634  0.114083  0.040890 -0.075357 -0.202970 -0.035202   \n",
       "E8      -0.008941  0.022973  0.092611  0.011876  0.000226 -0.119815  0.021078   \n",
       "E9      -0.005549  0.045725 -0.066801 -0.003062  0.016521  0.156194  0.057401   \n",
       "E10     -0.034470  0.109924  0.176868 -0.001179  0.035559  0.013668  0.037778   \n",
       "E11     -0.008939  0.084846 -0.088023 -0.052130  0.011117 -0.015727  0.039560   \n",
       "V1      -0.024449 -0.043512  0.430603  0.094731  0.015578  0.002181  0.079413   \n",
       "V2      -0.010418  0.025850  0.068999  0.029370 -0.046786 -0.002248  0.025036   \n",
       "V3      -0.004996  0.007986  0.045605 -0.003652  0.048736 -0.007556 -0.016252   \n",
       "V4       0.019121  0.037711 -0.185484 -0.060586  0.140578  0.009405 -0.152005   \n",
       "V5       0.029222  0.024499 -0.114477  0.001465 -0.079563 -0.006332 -0.033109   \n",
       "V6      -0.025728 -0.020696  0.399214  0.083946  0.006129 -0.004937  0.078383   \n",
       "V8      -0.016850 -0.008450  0.227876  0.044731  0.012401 -0.014779  0.057884   \n",
       "V10     -0.002163 -0.041814  0.382013  0.081133  0.042666  0.000264  0.083841   \n",
       "V11      0.012783  0.019360 -0.070397 -0.061395  0.115566 -0.003311 -0.004646   \n",
       "\n",
       "               E6        E7        E8        E9       E10       E11        V1  \\\n",
       "ObsNum  -0.003838  0.002005  0.009400 -0.002779 -0.008684  0.004978  0.004242   \n",
       "IsAlert -0.189198 -0.329722 -0.283440  0.380353 -0.067051  0.079002 -0.269967   \n",
       "P1      -0.004635 -0.013194 -0.010918  0.004688  0.004549  0.015882 -0.025763   \n",
       "P2      -0.006843 -0.002058  0.002920  0.002266  0.014589  0.001857  0.011310   \n",
       "P3      -0.004508 -0.014086 -0.014135  0.018113 -0.013289  0.007423 -0.011347   \n",
       "P4       0.004230  0.013755  0.012959 -0.016615  0.010501 -0.005681  0.010061   \n",
       "P5      -0.006387 -0.032576 -0.048551  0.005177 -0.074753  0.028216 -0.054428   \n",
       "P6       0.011529 -0.006923 -0.008941 -0.005549 -0.034470 -0.008939 -0.024449   \n",
       "P7      -0.105148 -0.042634  0.022973  0.045725  0.109924  0.084846 -0.043512   \n",
       "E1       0.011380  0.114083  0.092611 -0.066801  0.176868 -0.088023  0.430603   \n",
       "E2       0.044847  0.040890  0.011876 -0.003062 -0.001179 -0.052130  0.094731   \n",
       "E3      -0.165577 -0.075357  0.000226  0.016521  0.035559  0.011117  0.015578   \n",
       "E4       0.060057 -0.202970 -0.119815  0.156194  0.013668 -0.015727  0.002181   \n",
       "E5       0.014476 -0.035202  0.021078  0.057401  0.037778  0.039560  0.079413   \n",
       "E6       1.000000  0.248943  0.098840 -0.170502  0.011477  0.001127 -0.049803   \n",
       "E7       0.248943  1.000000  0.635992 -0.744275  0.312870 -0.031910  0.188332   \n",
       "E8       0.098840  0.635992  1.000000 -0.594516  0.311184 -0.016692  0.202976   \n",
       "E9      -0.170502 -0.744275 -0.594516  1.000000 -0.313360  0.031089 -0.129286   \n",
       "E10      0.011477  0.312870  0.311184 -0.313360  1.000000 -0.031277  0.376850   \n",
       "E11      0.001127 -0.031910 -0.016692  0.031089 -0.031277  1.000000 -0.273714   \n",
       "V1      -0.049803  0.188332  0.202976 -0.129286  0.376850 -0.273714  1.000000   \n",
       "V2      -0.037068  0.020010  0.036510 -0.009856  0.075143 -0.009588  0.173796   \n",
       "V3      -0.005844  0.023965  0.025184 -0.021323  0.014493  0.023545  0.113710   \n",
       "V4       0.086723 -0.048397 -0.074523  0.013255 -0.292688  0.056647 -0.435652   \n",
       "V5       0.013194 -0.058715 -0.077849  0.063281 -0.188536  0.109642 -0.309047   \n",
       "V6      -0.043660  0.186425  0.194538 -0.128772  0.364547 -0.331563  0.937334   \n",
       "V8      -0.031359  0.128932  0.126790 -0.093210  0.225304 -0.276242  0.572335   \n",
       "V10     -0.046781  0.157692  0.179493 -0.111997  0.328938 -0.154770  0.910776   \n",
       "V11     -0.009406 -0.004873 -0.008762 -0.019344  0.068841  0.023469 -0.095577   \n",
       "\n",
       "               V2        V3        V4        V5        V6        V8       V10  \\\n",
       "ObsNum   0.019009  0.007753 -0.000480 -0.006284  0.003935  0.008191  0.005145   \n",
       "IsAlert -0.050740 -0.062000  0.097022  0.055429 -0.244150 -0.165550 -0.259607   \n",
       "P1      -0.021118  0.002551  0.021404  0.051348 -0.019792 -0.029747 -0.004563   \n",
       "P2       0.001779  0.002272 -0.006038 -0.023902  0.010608  0.008257  0.001946   \n",
       "P3       0.008651 -0.006380  0.013045  0.001312 -0.010245 -0.007963 -0.009630   \n",
       "P4      -0.006926  0.008049 -0.010905  0.001705  0.008348  0.005379  0.008906   \n",
       "P5       0.026232  0.005371  0.070290 -0.016671 -0.046353 -0.023359 -0.022193   \n",
       "P6      -0.010418 -0.004996  0.019121  0.029222 -0.025728 -0.016850 -0.002163   \n",
       "P7       0.025850  0.007986  0.037711  0.024499 -0.020696 -0.008450 -0.041814   \n",
       "E1       0.068999  0.045605 -0.185484 -0.114477  0.399214  0.227876  0.382013   \n",
       "E2       0.029370 -0.003652 -0.060586  0.001465  0.083946  0.044731  0.081133   \n",
       "E3      -0.046786  0.048736  0.140578 -0.079563  0.006129  0.012401  0.042666   \n",
       "E4      -0.002248 -0.007556  0.009405 -0.006332 -0.004937 -0.014779  0.000264   \n",
       "E5       0.025036 -0.016252 -0.152005 -0.033109  0.078383  0.057884  0.083841   \n",
       "E6      -0.037068 -0.005844  0.086723  0.013194 -0.043660 -0.031359 -0.046781   \n",
       "E7       0.020010  0.023965 -0.048397 -0.058715  0.186425  0.128932  0.157692   \n",
       "E8       0.036510  0.025184 -0.074523 -0.077849  0.194538  0.126790  0.179493   \n",
       "E9      -0.009856 -0.021323  0.013255  0.063281 -0.128772 -0.093210 -0.111997   \n",
       "E10      0.075143  0.014493 -0.292688 -0.188536  0.364547  0.225304  0.328938   \n",
       "E11     -0.009588  0.023545  0.056647  0.109642 -0.331563 -0.276242 -0.154770   \n",
       "V1       0.173796  0.113710 -0.435652 -0.309047  0.937334  0.572335  0.910776   \n",
       "V2       1.000000 -0.029865 -0.164682 -0.406453  0.179933  0.107099  0.153246   \n",
       "V3      -0.029865  1.000000  0.094807  0.034938  0.110503  0.078252  0.128663   \n",
       "V4      -0.164682  0.094807  1.000000  0.087289 -0.405763 -0.250265 -0.386108   \n",
       "V5      -0.406453  0.034938  0.087289  1.000000 -0.276837 -0.162438 -0.244230   \n",
       "V6       0.179933  0.110503 -0.405763 -0.276837  1.000000  0.658544  0.822076   \n",
       "V8       0.107099  0.078252 -0.250265 -0.162438  0.658544  1.000000  0.513956   \n",
       "V10      0.153246  0.128663 -0.386108 -0.244230  0.822076  0.513956  1.000000   \n",
       "V11     -0.043922 -0.000325  0.081574  0.033800 -0.089677 -0.056313 -0.055327   \n",
       "\n",
       "              V11  \n",
       "ObsNum  -0.011465  \n",
       "IsAlert  0.155722  \n",
       "P1       0.344636  \n",
       "P2      -0.034248  \n",
       "P3      -0.009808  \n",
       "P4       0.009841  \n",
       "P5      -0.004897  \n",
       "P6       0.012783  \n",
       "P7       0.019360  \n",
       "E1      -0.070397  \n",
       "E2      -0.061395  \n",
       "E3       0.115566  \n",
       "E4      -0.003311  \n",
       "E5      -0.004646  \n",
       "E6      -0.009406  \n",
       "E7      -0.004873  \n",
       "E8      -0.008762  \n",
       "E9      -0.019344  \n",
       "E10      0.068841  \n",
       "E11      0.023469  \n",
       "V1      -0.095577  \n",
       "V2      -0.043922  \n",
       "V3      -0.000325  \n",
       "V4       0.081574  \n",
       "V5       0.033800  \n",
       "V6      -0.089677  \n",
       "V8      -0.056313  \n",
       "V10     -0.055327  \n",
       "V11      1.000000  "
      ]
     },
     "execution_count": 54,
     "metadata": {},
     "output_type": "execute_result"
    }
   ],
   "source": [
    "correlation_matrix"
   ]
  },
  {
   "cell_type": "markdown",
   "metadata": {},
   "source": [
    "---\n",
    "# Naive"
   ]
  },
  {
   "cell_type": "code",
   "execution_count": 223,
   "metadata": {},
   "outputs": [],
   "source": [
    "train_ds = train_ds_raw.copy()"
   ]
  },
  {
   "cell_type": "code",
   "execution_count": 227,
   "metadata": {},
   "outputs": [],
   "source": [
    "train, test = train_test_split(train_ds, test_size=0.2, random_state=5041501)"
   ]
  },
  {
   "cell_type": "code",
   "execution_count": 228,
   "metadata": {},
   "outputs": [],
   "source": [
    "train_x = train.drop('IsAlert', axis=1)\n",
    "train_y = train.IsAlert\n",
    "test_x = test.drop('IsAlert', axis=1)\n",
    "test_y = test.IsAlert"
   ]
  },
  {
   "cell_type": "code",
   "execution_count": 229,
   "metadata": {},
   "outputs": [],
   "source": [
    "gnb = GaussianNB()\n",
    "pred_y = gnb.fit(train_x, train_y).predict(test_x)"
   ]
  },
  {
   "cell_type": "code",
   "execution_count": 230,
   "metadata": {},
   "outputs": [
    {
     "name": "stdout",
     "output_type": "stream",
     "text": [
      "             precision    recall  f1-score   support\n",
      "\n",
      "          0       0.55      0.87      0.67     50598\n",
      "          1       0.84      0.48      0.61     70268\n",
      "\n",
      "avg / total       0.72      0.65      0.64    120866\n",
      "\n"
     ]
    }
   ],
   "source": [
    "print(classification_report(test_y, pred_y))"
   ]
  },
  {
   "cell_type": "code",
   "execution_count": 231,
   "metadata": {},
   "outputs": [],
   "source": [
    "lrc = LogisticRegression()\n",
    "pred_y = lrc.fit(train_x, train_y).predict(test_x)"
   ]
  },
  {
   "cell_type": "code",
   "execution_count": 232,
   "metadata": {
    "scrolled": true
   },
   "outputs": [
    {
     "name": "stdout",
     "output_type": "stream",
     "text": [
      "             precision    recall  f1-score   support\n",
      "\n",
      "          0       0.82      0.73      0.77     50598\n",
      "          1       0.82      0.88      0.85     70268\n",
      "\n",
      "avg / total       0.82      0.82      0.82    120866\n",
      "\n"
     ]
    }
   ],
   "source": [
    "print(classification_report(test_y, pred_y))"
   ]
  },
  {
   "cell_type": "markdown",
   "metadata": {},
   "source": [
    "---\n",
    "# w/o invariant features"
   ]
  },
  {
   "cell_type": "code",
   "execution_count": 233,
   "metadata": {},
   "outputs": [],
   "source": [
    "train_ds = train_ds_raw.drop(['P8', 'V7', 'V9', 'TrialID'], axis=1)"
   ]
  },
  {
   "cell_type": "code",
   "execution_count": 240,
   "metadata": {},
   "outputs": [],
   "source": [
    "train, test = train_test_split(train_ds, test_size=0.2, random_state=5041501)"
   ]
  },
  {
   "cell_type": "code",
   "execution_count": 235,
   "metadata": {},
   "outputs": [],
   "source": [
    "train_x = train.drop('IsAlert', axis=1)\n",
    "train_y = train.IsAlert\n",
    "test_x = test.drop('IsAlert', axis=1)\n",
    "test_y = test.IsAlert"
   ]
  },
  {
   "cell_type": "code",
   "execution_count": 236,
   "metadata": {},
   "outputs": [],
   "source": [
    "gnb = GaussianNB()\n",
    "pred_y = gnb.fit(train_x, train_y).predict(test_x)"
   ]
  },
  {
   "cell_type": "code",
   "execution_count": 237,
   "metadata": {},
   "outputs": [
    {
     "name": "stdout",
     "output_type": "stream",
     "text": [
      "             precision    recall  f1-score   support\n",
      "\n",
      "          0       0.55      0.87      0.67     50598\n",
      "          1       0.84      0.48      0.61     70268\n",
      "\n",
      "avg / total       0.72      0.64      0.64    120866\n",
      "\n"
     ]
    }
   ],
   "source": [
    "print(classification_report(test_y, pred_y))"
   ]
  },
  {
   "cell_type": "code",
   "execution_count": 238,
   "metadata": {},
   "outputs": [],
   "source": [
    "lrc = LogisticRegression()\n",
    "pred_y = lrc.fit(train_x, train_y).predict(test_x)"
   ]
  },
  {
   "cell_type": "code",
   "execution_count": 239,
   "metadata": {
    "scrolled": true
   },
   "outputs": [
    {
     "name": "stdout",
     "output_type": "stream",
     "text": [
      "             precision    recall  f1-score   support\n",
      "\n",
      "          0       0.76      0.71      0.74     50598\n",
      "          1       0.80      0.84      0.82     70268\n",
      "\n",
      "avg / total       0.79      0.79      0.79    120866\n",
      "\n"
     ]
    }
   ],
   "source": [
    "print(classification_report(test_y, pred_y))"
   ]
  },
  {
   "cell_type": "markdown",
   "metadata": {},
   "source": [
    "---\n",
    "# w/o invariant features & `ObsNum`"
   ]
  },
  {
   "cell_type": "code",
   "execution_count": 242,
   "metadata": {},
   "outputs": [],
   "source": [
    "train_ds = train_ds_raw.drop(['P8', 'V7', 'V9', 'TrialID', 'ObsNum'], axis=1)"
   ]
  },
  {
   "cell_type": "code",
   "execution_count": 243,
   "metadata": {},
   "outputs": [],
   "source": [
    "train, test = train_test_split(train_ds, test_size=0.2, random_state=5041501)"
   ]
  },
  {
   "cell_type": "code",
   "execution_count": 244,
   "metadata": {},
   "outputs": [],
   "source": [
    "train_x = train.drop('IsAlert', axis=1)\n",
    "train_y = train.IsAlert\n",
    "test_x = test.drop('IsAlert', axis=1)\n",
    "test_y = test.IsAlert"
   ]
  },
  {
   "cell_type": "code",
   "execution_count": 245,
   "metadata": {},
   "outputs": [],
   "source": [
    "gnb = GaussianNB()\n",
    "pred_y = gnb.fit(train_x, train_y).predict(test_x)"
   ]
  },
  {
   "cell_type": "code",
   "execution_count": 246,
   "metadata": {},
   "outputs": [
    {
     "name": "stdout",
     "output_type": "stream",
     "text": [
      "             precision    recall  f1-score   support\n",
      "\n",
      "          0       0.55      0.87      0.67     50598\n",
      "          1       0.84      0.48      0.61     70268\n",
      "\n",
      "avg / total       0.72      0.65      0.64    120866\n",
      "\n"
     ]
    }
   ],
   "source": [
    "print(classification_report(test_y, pred_y))"
   ]
  },
  {
   "cell_type": "code",
   "execution_count": 247,
   "metadata": {},
   "outputs": [],
   "source": [
    "lrc = LogisticRegression()\n",
    "pred_y = lrc.fit(train_x, train_y).predict(test_x)"
   ]
  },
  {
   "cell_type": "code",
   "execution_count": 248,
   "metadata": {
    "scrolled": true
   },
   "outputs": [
    {
     "name": "stdout",
     "output_type": "stream",
     "text": [
      "             precision    recall  f1-score   support\n",
      "\n",
      "          0       0.76      0.71      0.74     50598\n",
      "          1       0.80      0.84      0.82     70268\n",
      "\n",
      "avg / total       0.79      0.79      0.79    120866\n",
      "\n"
     ]
    }
   ],
   "source": [
    "print(classification_report(test_y, pred_y))"
   ]
  },
  {
   "cell_type": "markdown",
   "metadata": {},
   "source": [
    "---\n",
    "# w/o physical & invariant features"
   ]
  },
  {
   "cell_type": "code",
   "execution_count": 214,
   "metadata": {},
   "outputs": [],
   "source": [
    "train_ds = train_ds_raw.drop(['P1', 'P2', 'P3', 'P4', 'P5', 'P6', 'P7', 'V7', 'V9', 'TrialID'], axis=1)"
   ]
  },
  {
   "cell_type": "code",
   "execution_count": 215,
   "metadata": {},
   "outputs": [],
   "source": [
    "train, test = train_test_split(train_ds, test_size=0.2)"
   ]
  },
  {
   "cell_type": "code",
   "execution_count": 216,
   "metadata": {},
   "outputs": [],
   "source": [
    "train_x = train.drop('IsAlert', axis=1)\n",
    "train_y = train.IsAlert\n",
    "test_x = test.drop('IsAlert', axis=1)\n",
    "test_y = test.IsAlert"
   ]
  },
  {
   "cell_type": "code",
   "execution_count": 219,
   "metadata": {},
   "outputs": [],
   "source": [
    "gnb = GaussianNB()\n",
    "pred_y = gnb.fit(train_x, train_y).predict(test_x)"
   ]
  },
  {
   "cell_type": "code",
   "execution_count": 220,
   "metadata": {},
   "outputs": [
    {
     "name": "stdout",
     "output_type": "stream",
     "text": [
      "             precision    recall  f1-score   support\n",
      "\n",
      "          0       0.68      0.68      0.68     50716\n",
      "          1       0.77      0.77      0.77     70150\n",
      "\n",
      "avg / total       0.73      0.73      0.73    120866\n",
      "\n"
     ]
    }
   ],
   "source": [
    "print(classification_report(test_y, pred_y))"
   ]
  },
  {
   "cell_type": "code",
   "execution_count": 221,
   "metadata": {},
   "outputs": [],
   "source": [
    "lrc = LogisticRegression()\n",
    "pred_y = lrc.fit(train_x, train_y).predict(test_x)"
   ]
  },
  {
   "cell_type": "code",
   "execution_count": 222,
   "metadata": {
    "scrolled": true
   },
   "outputs": [
    {
     "name": "stdout",
     "output_type": "stream",
     "text": [
      "             precision    recall  f1-score   support\n",
      "\n",
      "          0       0.76      0.71      0.74     50716\n",
      "          1       0.80      0.84      0.82     70150\n",
      "\n",
      "avg / total       0.78      0.79      0.78    120866\n",
      "\n"
     ]
    }
   ],
   "source": [
    "print(classification_report(test_y, pred_y))"
   ]
  },
  {
   "cell_type": "markdown",
   "metadata": {},
   "source": [
    "---\n",
    "# Rolling std only"
   ]
  },
  {
   "cell_type": "code",
   "execution_count": 324,
   "metadata": {},
   "outputs": [],
   "source": [
    "train_ds = train_ds_raw.drop(\n",
    "    ['ObsNum', 'P8', 'V7', 'V9', 'P1', 'P2', 'P3', 'P4', 'P5', 'P6', 'P7'],\n",
    "    axis=1\n",
    ")"
   ]
  },
  {
   "cell_type": "code",
   "execution_count": 326,
   "metadata": {},
   "outputs": [],
   "source": [
    "std_only_ds = train_ds.groupby('TrialID').rolling(window=10, min_periods=1).std()\n",
    "std_only_ds.reset_index(0, drop=True, inplace=True)\n",
    "std_only_ds.IsAlert = train_ds_raw.IsAlert"
   ]
  },
  {
   "cell_type": "code",
   "execution_count": 328,
   "metadata": {},
   "outputs": [
    {
     "data": {
      "text/plain": [
       "<matplotlib.axes._subplots.AxesSubplot at 0x16de46160>"
      ]
     },
     "execution_count": 328,
     "metadata": {},
     "output_type": "execute_result"
    },
    {
     "data": {
      "image/png": "[encoded data removed]",
      "text/plain": [
       "<Figure size 720x720 with 2 Axes>"
      ]
     },
     "metadata": {},
     "output_type": "display_data"
    }
   ],
   "source": [
    "sns.heatmap(std_only_ds.corr())"
   ]
  },
  {
   "cell_type": "code",
   "execution_count": 329,
   "metadata": {},
   "outputs": [],
   "source": [
    "train, test = train_test_split(std_only_ds, test_size=0.2, random_state=5041501)\n",
    "train = train.dropna()\n",
    "test = test.dropna()"
   ]
  },
  {
   "cell_type": "code",
   "execution_count": 330,
   "metadata": {},
   "outputs": [],
   "source": [
    "train_x = train.drop('IsAlert', axis=1)\n",
    "train_y = train.IsAlert\n",
    "test_x = test.drop('IsAlert', axis=1)\n",
    "test_y = test.IsAlert"
   ]
  },
  {
   "cell_type": "code",
   "execution_count": 331,
   "metadata": {},
   "outputs": [],
   "source": [
    "gnb = GaussianNB()\n",
    "pred_y = gnb.fit(train_x, train_y).predict(test_x)"
   ]
  },
  {
   "cell_type": "code",
   "execution_count": 332,
   "metadata": {},
   "outputs": [
    {
     "name": "stdout",
     "output_type": "stream",
     "text": [
      "             precision    recall  f1-score   support\n",
      "\n",
      "          0       0.56      0.63      0.59     50550\n",
      "          1       0.71      0.64      0.67     70212\n",
      "\n",
      "avg / total       0.64      0.64      0.64    120762\n",
      "\n"
     ]
    }
   ],
   "source": [
    "print(classification_report(test_y, pred_y))"
   ]
  },
  {
   "cell_type": "code",
   "execution_count": 333,
   "metadata": {},
   "outputs": [],
   "source": [
    "lrc = LogisticRegression()\n",
    "pred_y = lrc.fit(train_x, train_y).predict(test_x)"
   ]
  },
  {
   "cell_type": "code",
   "execution_count": 334,
   "metadata": {
    "scrolled": true
   },
   "outputs": [
    {
     "name": "stdout",
     "output_type": "stream",
     "text": [
      "             precision    recall  f1-score   support\n",
      "\n",
      "          0       0.62      0.37      0.47     50550\n",
      "          1       0.65      0.83      0.73     70212\n",
      "\n",
      "avg / total       0.64      0.64      0.62    120762\n",
      "\n"
     ]
    }
   ],
   "source": [
    "print(classification_report(test_y, pred_y))"
   ]
  },
  {
   "cell_type": "markdown",
   "metadata": {},
   "source": [
    "---\n",
    "\n",
    "# Original with rolling std"
   ]
  },
  {
   "cell_type": "code",
   "execution_count": 274,
   "metadata": {},
   "outputs": [],
   "source": [
    "train_ds = train_ds_raw.drop(\n",
    "    ['ObsNum', 'P8', 'V7', 'V9', 'TrialID', 'P1', 'P2', 'P3', 'P4', 'P5', 'P6', 'P7'],\n",
    "    axis=1\n",
    ")"
   ]
  },
  {
   "cell_type": "code",
   "execution_count": 275,
   "metadata": {},
   "outputs": [],
   "source": [
    "std = train_ds.rolling(window=10, min_periods=1).std().drop('IsAlert', axis=1)\n",
    "original_with_std = pd.merge(train_ds, std, left_index=True, right_index=True, suffixes=['_original', '_std'])\n",
    "original_with_std.drop(0, inplace=True)"
   ]
  },
  {
   "cell_type": "code",
   "execution_count": 276,
   "metadata": {},
   "outputs": [],
   "source": [
    "train, test = train_test_split(original_with_std, test_size=0.2, random_state=5041501)\n",
    "train = train.dropna()\n",
    "test = test.dropna()"
   ]
  },
  {
   "cell_type": "code",
   "execution_count": 277,
   "metadata": {},
   "outputs": [],
   "source": [
    "train_x = train.drop('IsAlert', axis=1)\n",
    "train_y = train.IsAlert\n",
    "test_x = test.drop('IsAlert', axis=1)\n",
    "test_y = test.IsAlert"
   ]
  },
  {
   "cell_type": "code",
   "execution_count": 278,
   "metadata": {},
   "outputs": [],
   "source": [
    "gnb = GaussianNB()\n",
    "pred_y = gnb.fit(train_x, train_y).predict(test_x)"
   ]
  },
  {
   "cell_type": "code",
   "execution_count": 279,
   "metadata": {},
   "outputs": [
    {
     "name": "stdout",
     "output_type": "stream",
     "text": [
      "             precision    recall  f1-score   support\n",
      "\n",
      "          0       0.61      0.81      0.70     50550\n",
      "          1       0.82      0.62      0.71     70316\n",
      "\n",
      "avg / total       0.73      0.70      0.70    120866\n",
      "\n"
     ]
    }
   ],
   "source": [
    "print(classification_report(test_y, pred_y))"
   ]
  },
  {
   "cell_type": "code",
   "execution_count": 280,
   "metadata": {},
   "outputs": [],
   "source": [
    "lrc = LogisticRegression()\n",
    "pred_y = lrc.fit(train_x, train_y).predict(test_x)"
   ]
  },
  {
   "cell_type": "code",
   "execution_count": 281,
   "metadata": {
    "scrolled": true
   },
   "outputs": [
    {
     "name": "stdout",
     "output_type": "stream",
     "text": [
      "             precision    recall  f1-score   support\n",
      "\n",
      "          0       0.77      0.71      0.74     50550\n",
      "          1       0.80      0.85      0.83     70316\n",
      "\n",
      "avg / total       0.79      0.79      0.79    120866\n",
      "\n"
     ]
    }
   ],
   "source": [
    "print(classification_report(test_y, pred_y))"
   ]
  },
  {
   "cell_type": "markdown",
   "metadata": {},
   "source": [
    "# Different windows"
   ]
  },
  {
   "cell_type": "markdown",
   "metadata": {},
   "source": [
    "Random moving windows with different width and aggregator function.\n",
    "\n",
    "⚠️this will train ***a lot*** of models and will take a lot of time. Feel free to tune aggregating functions, window sizes and controlling whether you want to merge aggregated features with original data."
   ]
  },
  {
   "cell_type": "code",
   "execution_count": 4,
   "metadata": {},
   "outputs": [],
   "source": [
    "train_ds = train_ds_raw.drop(\n",
    "    ['ObsNum', 'P8', 'V7', 'V9', 'P1', 'P2', 'P3', 'P4', 'P5', 'P6', 'P7'],\n",
    "    axis=1\n",
    ")"
   ]
  },
  {
   "cell_type": "code",
   "execution_count": 7,
   "metadata": {},
   "outputs": [
    {
     "data": {
      "text/markdown": [
       "## sum aggregator with 20-width; with original"
      ],
      "text/plain": [
       "<IPython.core.display.Markdown object>"
      ]
     },
     "metadata": {},
     "output_type": "display_data"
    },
    {
     "data": {
      "text/markdown": [
       "### Naive Bayes:"
      ],
      "text/plain": [
       "<IPython.core.display.Markdown object>"
      ]
     },
     "metadata": {},
     "output_type": "display_data"
    },
    {
     "name": "stdout",
     "output_type": "stream",
     "text": [
      "             precision    recall  f1-score   support\n",
      "\n",
      "          0       0.63      0.81      0.71     50598\n",
      "          1       0.83      0.66      0.74     70268\n",
      "\n",
      "avg / total       0.75      0.72      0.72    120866\n",
      "\n"
     ]
    },
    {
     "data": {
      "text/markdown": [
       "### Logistic regression:"
      ],
      "text/plain": [
       "<IPython.core.display.Markdown object>"
      ]
     },
     "metadata": {},
     "output_type": "display_data"
    },
    {
     "name": "stdout",
     "output_type": "stream",
     "text": [
      "             precision    recall  f1-score   support\n",
      "\n",
      "          0       0.81      0.72      0.76     50598\n",
      "          1       0.81      0.88      0.84     70268\n",
      "\n",
      "avg / total       0.81      0.81      0.81    120866\n",
      "\n"
     ]
    },
    {
     "data": {
      "text/markdown": [
       "---"
      ],
      "text/plain": [
       "<IPython.core.display.Markdown object>"
      ]
     },
     "metadata": {},
     "output_type": "display_data"
    },
    {
     "data": {
      "text/markdown": [
       "## sum aggregator with 50-width; with original"
      ],
      "text/plain": [
       "<IPython.core.display.Markdown object>"
      ]
     },
     "metadata": {},
     "output_type": "display_data"
    },
    {
     "data": {
      "text/markdown": [
       "### Naive Bayes:"
      ],
      "text/plain": [
       "<IPython.core.display.Markdown object>"
      ]
     },
     "metadata": {},
     "output_type": "display_data"
    },
    {
     "name": "stdout",
     "output_type": "stream",
     "text": [
      "             precision    recall  f1-score   support\n",
      "\n",
      "          0       0.61      0.83      0.70     50598\n",
      "          1       0.83      0.62      0.71     70268\n",
      "\n",
      "avg / total       0.74      0.70      0.71    120866\n",
      "\n"
     ]
    },
    {
     "data": {
      "text/markdown": [
       "### Logistic regression:"
      ],
      "text/plain": [
       "<IPython.core.display.Markdown object>"
      ]
     },
     "metadata": {},
     "output_type": "display_data"
    },
    {
     "name": "stdout",
     "output_type": "stream",
     "text": [
      "             precision    recall  f1-score   support\n",
      "\n",
      "          0       0.81      0.71      0.76     50598\n",
      "          1       0.81      0.88      0.84     70268\n",
      "\n",
      "avg / total       0.81      0.81      0.81    120866\n",
      "\n"
     ]
    },
    {
     "data": {
      "text/markdown": [
       "---"
      ],
      "text/plain": [
       "<IPython.core.display.Markdown object>"
      ]
     },
     "metadata": {},
     "output_type": "display_data"
    },
    {
     "data": {
      "text/markdown": [
       "## sum aggregator with 200-width; with original"
      ],
      "text/plain": [
       "<IPython.core.display.Markdown object>"
      ]
     },
     "metadata": {},
     "output_type": "display_data"
    },
    {
     "data": {
      "text/markdown": [
       "### Naive Bayes:"
      ],
      "text/plain": [
       "<IPython.core.display.Markdown object>"
      ]
     },
     "metadata": {},
     "output_type": "display_data"
    },
    {
     "name": "stdout",
     "output_type": "stream",
     "text": [
      "             precision    recall  f1-score   support\n",
      "\n",
      "          0       0.58      0.80      0.68     50598\n",
      "          1       0.81      0.59      0.68     70268\n",
      "\n",
      "avg / total       0.71      0.68      0.68    120866\n",
      "\n"
     ]
    },
    {
     "data": {
      "text/markdown": [
       "### Logistic regression:"
      ],
      "text/plain": [
       "<IPython.core.display.Markdown object>"
      ]
     },
     "metadata": {},
     "output_type": "display_data"
    },
    {
     "name": "stdout",
     "output_type": "stream",
     "text": [
      "             precision    recall  f1-score   support\n",
      "\n",
      "          0       0.81      0.72      0.76     50598\n",
      "          1       0.81      0.88      0.84     70268\n",
      "\n",
      "avg / total       0.81      0.81      0.81    120866\n",
      "\n"
     ]
    },
    {
     "data": {
      "text/markdown": [
       "---"
      ],
      "text/plain": [
       "<IPython.core.display.Markdown object>"
      ]
     },
     "metadata": {},
     "output_type": "display_data"
    },
    {
     "data": {
      "text/markdown": [
       "## mean aggregator with 20-width; with original"
      ],
      "text/plain": [
       "<IPython.core.display.Markdown object>"
      ]
     },
     "metadata": {},
     "output_type": "display_data"
    },
    {
     "data": {
      "text/markdown": [
       "### Naive Bayes:"
      ],
      "text/plain": [
       "<IPython.core.display.Markdown object>"
      ]
     },
     "metadata": {},
     "output_type": "display_data"
    },
    {
     "name": "stdout",
     "output_type": "stream",
     "text": [
      "             precision    recall  f1-score   support\n",
      "\n",
      "          0       0.68      0.75      0.72     50598\n",
      "          1       0.81      0.75      0.78     70268\n",
      "\n",
      "avg / total       0.76      0.75      0.75    120866\n",
      "\n"
     ]
    },
    {
     "data": {
      "text/markdown": [
       "### Logistic regression:"
      ],
      "text/plain": [
       "<IPython.core.display.Markdown object>"
      ]
     },
     "metadata": {},
     "output_type": "display_data"
    },
    {
     "name": "stdout",
     "output_type": "stream",
     "text": [
      "             precision    recall  f1-score   support\n",
      "\n",
      "          0       0.82      0.73      0.77     50598\n",
      "          1       0.82      0.88      0.85     70268\n",
      "\n",
      "avg / total       0.82      0.82      0.82    120866\n",
      "\n"
     ]
    },
    {
     "data": {
      "text/markdown": [
       "---"
      ],
      "text/plain": [
       "<IPython.core.display.Markdown object>"
      ]
     },
     "metadata": {},
     "output_type": "display_data"
    },
    {
     "data": {
      "text/markdown": [
       "## mean aggregator with 50-width; with original"
      ],
      "text/plain": [
       "<IPython.core.display.Markdown object>"
      ]
     },
     "metadata": {},
     "output_type": "display_data"
    },
    {
     "data": {
      "text/markdown": [
       "### Naive Bayes:"
      ],
      "text/plain": [
       "<IPython.core.display.Markdown object>"
      ]
     },
     "metadata": {},
     "output_type": "display_data"
    },
    {
     "name": "stdout",
     "output_type": "stream",
     "text": [
      "             precision    recall  f1-score   support\n",
      "\n",
      "          0       0.68      0.77      0.72     50598\n",
      "          1       0.82      0.74      0.78     70268\n",
      "\n",
      "avg / total       0.76      0.75      0.75    120866\n",
      "\n"
     ]
    },
    {
     "data": {
      "text/markdown": [
       "### Logistic regression:"
      ],
      "text/plain": [
       "<IPython.core.display.Markdown object>"
      ]
     },
     "metadata": {},
     "output_type": "display_data"
    },
    {
     "name": "stdout",
     "output_type": "stream",
     "text": [
      "             precision    recall  f1-score   support\n",
      "\n",
      "          0       0.82      0.73      0.77     50598\n",
      "          1       0.82      0.88      0.85     70268\n",
      "\n",
      "avg / total       0.82      0.82      0.82    120866\n",
      "\n"
     ]
    },
    {
     "data": {
      "text/markdown": [
       "---"
      ],
      "text/plain": [
       "<IPython.core.display.Markdown object>"
      ]
     },
     "metadata": {},
     "output_type": "display_data"
    },
    {
     "data": {
      "text/markdown": [
       "## mean aggregator with 200-width; with original"
      ],
      "text/plain": [
       "<IPython.core.display.Markdown object>"
      ]
     },
     "metadata": {},
     "output_type": "display_data"
    },
    {
     "data": {
      "text/markdown": [
       "### Naive Bayes:"
      ],
      "text/plain": [
       "<IPython.core.display.Markdown object>"
      ]
     },
     "metadata": {},
     "output_type": "display_data"
    },
    {
     "name": "stdout",
     "output_type": "stream",
     "text": [
      "             precision    recall  f1-score   support\n",
      "\n",
      "          0       0.69      0.77      0.73     50598\n",
      "          1       0.82      0.75      0.78     70268\n",
      "\n",
      "avg / total       0.76      0.76      0.76    120866\n",
      "\n"
     ]
    },
    {
     "data": {
      "text/markdown": [
       "### Logistic regression:"
      ],
      "text/plain": [
       "<IPython.core.display.Markdown object>"
      ]
     },
     "metadata": {},
     "output_type": "display_data"
    },
    {
     "name": "stdout",
     "output_type": "stream",
     "text": [
      "             precision    recall  f1-score   support\n",
      "\n",
      "          0       0.82      0.74      0.78     50598\n",
      "          1       0.83      0.88      0.85     70268\n",
      "\n",
      "avg / total       0.82      0.83      0.82    120866\n",
      "\n"
     ]
    },
    {
     "data": {
      "text/markdown": [
       "---"
      ],
      "text/plain": [
       "<IPython.core.display.Markdown object>"
      ]
     },
     "metadata": {},
     "output_type": "display_data"
    },
    {
     "data": {
      "text/markdown": [
       "## median aggregator with 20-width; with original"
      ],
      "text/plain": [
       "<IPython.core.display.Markdown object>"
      ]
     },
     "metadata": {},
     "output_type": "display_data"
    },
    {
     "data": {
      "text/markdown": [
       "### Naive Bayes:"
      ],
      "text/plain": [
       "<IPython.core.display.Markdown object>"
      ]
     },
     "metadata": {},
     "output_type": "display_data"
    },
    {
     "name": "stdout",
     "output_type": "stream",
     "text": [
      "             precision    recall  f1-score   support\n",
      "\n",
      "          0       0.69      0.74      0.72     50598\n",
      "          1       0.80      0.76      0.78     70268\n",
      "\n",
      "avg / total       0.76      0.75      0.75    120866\n",
      "\n"
     ]
    },
    {
     "data": {
      "text/markdown": [
       "### Logistic regression:"
      ],
      "text/plain": [
       "<IPython.core.display.Markdown object>"
      ]
     },
     "metadata": {},
     "output_type": "display_data"
    },
    {
     "name": "stdout",
     "output_type": "stream",
     "text": [
      "             precision    recall  f1-score   support\n",
      "\n",
      "          0       0.81      0.73      0.77     50598\n",
      "          1       0.82      0.88      0.85     70268\n",
      "\n",
      "avg / total       0.82      0.82      0.81    120866\n",
      "\n"
     ]
    },
    {
     "data": {
      "text/markdown": [
       "---"
      ],
      "text/plain": [
       "<IPython.core.display.Markdown object>"
      ]
     },
     "metadata": {},
     "output_type": "display_data"
    },
    {
     "data": {
      "text/markdown": [
       "## median aggregator with 50-width; with original"
      ],
      "text/plain": [
       "<IPython.core.display.Markdown object>"
      ]
     },
     "metadata": {},
     "output_type": "display_data"
    },
    {
     "data": {
      "text/markdown": [
       "### Naive Bayes:"
      ],
      "text/plain": [
       "<IPython.core.display.Markdown object>"
      ]
     },
     "metadata": {},
     "output_type": "display_data"
    },
    {
     "name": "stdout",
     "output_type": "stream",
     "text": [
      "             precision    recall  f1-score   support\n",
      "\n",
      "          0       0.69      0.75      0.72     50598\n",
      "          1       0.81      0.76      0.78     70268\n",
      "\n",
      "avg / total       0.76      0.76      0.76    120866\n",
      "\n"
     ]
    },
    {
     "data": {
      "text/markdown": [
       "### Logistic regression:"
      ],
      "text/plain": [
       "<IPython.core.display.Markdown object>"
      ]
     },
     "metadata": {},
     "output_type": "display_data"
    },
    {
     "name": "stdout",
     "output_type": "stream",
     "text": [
      "             precision    recall  f1-score   support\n",
      "\n",
      "          0       0.82      0.73      0.77     50598\n",
      "          1       0.82      0.88      0.85     70268\n",
      "\n",
      "avg / total       0.82      0.82      0.81    120866\n",
      "\n"
     ]
    },
    {
     "data": {
      "text/markdown": [
       "---"
      ],
      "text/plain": [
       "<IPython.core.display.Markdown object>"
      ]
     },
     "metadata": {},
     "output_type": "display_data"
    },
    {
     "data": {
      "text/markdown": [
       "## median aggregator with 200-width; with original"
      ],
      "text/plain": [
       "<IPython.core.display.Markdown object>"
      ]
     },
     "metadata": {},
     "output_type": "display_data"
    },
    {
     "data": {
      "text/markdown": [
       "### Naive Bayes:"
      ],
      "text/plain": [
       "<IPython.core.display.Markdown object>"
      ]
     },
     "metadata": {},
     "output_type": "display_data"
    },
    {
     "name": "stdout",
     "output_type": "stream",
     "text": [
      "             precision    recall  f1-score   support\n",
      "\n",
      "          0       0.71      0.73      0.72     50598\n",
      "          1       0.80      0.79      0.79     70268\n",
      "\n",
      "avg / total       0.76      0.76      0.76    120866\n",
      "\n"
     ]
    },
    {
     "data": {
      "text/markdown": [
       "### Logistic regression:"
      ],
      "text/plain": [
       "<IPython.core.display.Markdown object>"
      ]
     },
     "metadata": {},
     "output_type": "display_data"
    },
    {
     "name": "stdout",
     "output_type": "stream",
     "text": [
      "             precision    recall  f1-score   support\n",
      "\n",
      "          0       0.81      0.73      0.77     50598\n",
      "          1       0.82      0.88      0.85     70268\n",
      "\n",
      "avg / total       0.82      0.82      0.81    120866\n",
      "\n"
     ]
    },
    {
     "data": {
      "text/markdown": [
       "---"
      ],
      "text/plain": [
       "<IPython.core.display.Markdown object>"
      ]
     },
     "metadata": {},
     "output_type": "display_data"
    },
    {
     "data": {
      "text/markdown": [
       "## var aggregator with 20-width; with original"
      ],
      "text/plain": [
       "<IPython.core.display.Markdown object>"
      ]
     },
     "metadata": {},
     "output_type": "display_data"
    },
    {
     "data": {
      "text/markdown": [
       "### Naive Bayes:"
      ],
      "text/plain": [
       "<IPython.core.display.Markdown object>"
      ]
     },
     "metadata": {},
     "output_type": "display_data"
    },
    {
     "name": "stdout",
     "output_type": "stream",
     "text": [
      "             precision    recall  f1-score   support\n",
      "\n",
      "          0       0.56      0.85      0.68     50550\n",
      "          1       0.83      0.52      0.64     70212\n",
      "\n",
      "avg / total       0.72      0.66      0.65    120762\n",
      "\n"
     ]
    },
    {
     "data": {
      "text/markdown": [
       "### Logistic regression:"
      ],
      "text/plain": [
       "<IPython.core.display.Markdown object>"
      ]
     },
     "metadata": {},
     "output_type": "display_data"
    },
    {
     "name": "stdout",
     "output_type": "stream",
     "text": [
      "             precision    recall  f1-score   support\n",
      "\n",
      "          0       0.78      0.70      0.73     50550\n",
      "          1       0.80      0.86      0.83     70212\n",
      "\n",
      "avg / total       0.79      0.79      0.79    120762\n",
      "\n"
     ]
    },
    {
     "data": {
      "text/markdown": [
       "---"
      ],
      "text/plain": [
       "<IPython.core.display.Markdown object>"
      ]
     },
     "metadata": {},
     "output_type": "display_data"
    },
    {
     "data": {
      "text/markdown": [
       "## var aggregator with 50-width; with original"
      ],
      "text/plain": [
       "<IPython.core.display.Markdown object>"
      ]
     },
     "metadata": {},
     "output_type": "display_data"
    },
    {
     "data": {
      "text/markdown": [
       "### Naive Bayes:"
      ],
      "text/plain": [
       "<IPython.core.display.Markdown object>"
      ]
     },
     "metadata": {},
     "output_type": "display_data"
    },
    {
     "name": "stdout",
     "output_type": "stream",
     "text": [
      "             precision    recall  f1-score   support\n",
      "\n",
      "          0       0.55      0.85      0.67     50550\n",
      "          1       0.82      0.51      0.63     70212\n",
      "\n",
      "avg / total       0.71      0.65      0.65    120762\n",
      "\n"
     ]
    },
    {
     "data": {
      "text/markdown": [
       "### Logistic regression:"
      ],
      "text/plain": [
       "<IPython.core.display.Markdown object>"
      ]
     },
     "metadata": {},
     "output_type": "display_data"
    },
    {
     "name": "stdout",
     "output_type": "stream",
     "text": [
      "             precision    recall  f1-score   support\n",
      "\n",
      "          0       0.77      0.70      0.74     50550\n",
      "          1       0.80      0.85      0.82     70212\n",
      "\n",
      "avg / total       0.79      0.79      0.79    120762\n",
      "\n"
     ]
    },
    {
     "data": {
      "text/markdown": [
       "---"
      ],
      "text/plain": [
       "<IPython.core.display.Markdown object>"
      ]
     },
     "metadata": {},
     "output_type": "display_data"
    },
    {
     "data": {
      "text/markdown": [
       "## var aggregator with 200-width; with original"
      ],
      "text/plain": [
       "<IPython.core.display.Markdown object>"
      ]
     },
     "metadata": {},
     "output_type": "display_data"
    },
    {
     "data": {
      "text/markdown": [
       "### Naive Bayes:"
      ],
      "text/plain": [
       "<IPython.core.display.Markdown object>"
      ]
     },
     "metadata": {},
     "output_type": "display_data"
    },
    {
     "name": "stdout",
     "output_type": "stream",
     "text": [
      "             precision    recall  f1-score   support\n",
      "\n",
      "          0       0.54      0.85      0.66     50550\n",
      "          1       0.82      0.48      0.61     70212\n",
      "\n",
      "avg / total       0.71      0.64      0.63    120762\n",
      "\n"
     ]
    },
    {
     "data": {
      "text/markdown": [
       "### Logistic regression:"
      ],
      "text/plain": [
       "<IPython.core.display.Markdown object>"
      ]
     },
     "metadata": {},
     "output_type": "display_data"
    },
    {
     "name": "stdout",
     "output_type": "stream",
     "text": [
      "             precision    recall  f1-score   support\n",
      "\n",
      "          0       0.80      0.70      0.75     50550\n",
      "          1       0.80      0.88      0.84     70212\n",
      "\n",
      "avg / total       0.80      0.80      0.80    120762\n",
      "\n"
     ]
    },
    {
     "data": {
      "text/markdown": [
       "---"
      ],
      "text/plain": [
       "<IPython.core.display.Markdown object>"
      ]
     },
     "metadata": {},
     "output_type": "display_data"
    },
    {
     "data": {
      "text/markdown": [
       "## std aggregator with 20-width; with original"
      ],
      "text/plain": [
       "<IPython.core.display.Markdown object>"
      ]
     },
     "metadata": {},
     "output_type": "display_data"
    },
    {
     "data": {
      "text/markdown": [
       "### Naive Bayes:"
      ],
      "text/plain": [
       "<IPython.core.display.Markdown object>"
      ]
     },
     "metadata": {},
     "output_type": "display_data"
    },
    {
     "name": "stdout",
     "output_type": "stream",
     "text": [
      "             precision    recall  f1-score   support\n",
      "\n",
      "          0       0.61      0.83      0.70     50550\n",
      "          1       0.83      0.61      0.71     70212\n",
      "\n",
      "avg / total       0.74      0.70      0.70    120762\n",
      "\n"
     ]
    },
    {
     "data": {
      "text/markdown": [
       "### Logistic regression:"
      ],
      "text/plain": [
       "<IPython.core.display.Markdown object>"
      ]
     },
     "metadata": {},
     "output_type": "display_data"
    },
    {
     "name": "stdout",
     "output_type": "stream",
     "text": [
      "             precision    recall  f1-score   support\n",
      "\n",
      "          0       0.82      0.73      0.77     50550\n",
      "          1       0.82      0.88      0.85     70212\n",
      "\n",
      "avg / total       0.82      0.82      0.82    120762\n",
      "\n"
     ]
    },
    {
     "data": {
      "text/markdown": [
       "---"
      ],
      "text/plain": [
       "<IPython.core.display.Markdown object>"
      ]
     },
     "metadata": {},
     "output_type": "display_data"
    },
    {
     "data": {
      "text/markdown": [
       "## std aggregator with 50-width; with original"
      ],
      "text/plain": [
       "<IPython.core.display.Markdown object>"
      ]
     },
     "metadata": {},
     "output_type": "display_data"
    },
    {
     "data": {
      "text/markdown": [
       "### Naive Bayes:"
      ],
      "text/plain": [
       "<IPython.core.display.Markdown object>"
      ]
     },
     "metadata": {},
     "output_type": "display_data"
    },
    {
     "name": "stdout",
     "output_type": "stream",
     "text": [
      "             precision    recall  f1-score   support\n",
      "\n",
      "          0       0.58      0.84      0.69     50550\n",
      "          1       0.84      0.57      0.68     70212\n",
      "\n",
      "avg / total       0.73      0.68      0.68    120762\n",
      "\n"
     ]
    },
    {
     "data": {
      "text/markdown": [
       "### Logistic regression:"
      ],
      "text/plain": [
       "<IPython.core.display.Markdown object>"
      ]
     },
     "metadata": {},
     "output_type": "display_data"
    },
    {
     "name": "stdout",
     "output_type": "stream",
     "text": [
      "             precision    recall  f1-score   support\n",
      "\n",
      "          0       0.82      0.73      0.78     50550\n",
      "          1       0.82      0.89      0.85     70212\n",
      "\n",
      "avg / total       0.82      0.82      0.82    120762\n",
      "\n"
     ]
    },
    {
     "data": {
      "text/markdown": [
       "---"
      ],
      "text/plain": [
       "<IPython.core.display.Markdown object>"
      ]
     },
     "metadata": {},
     "output_type": "display_data"
    },
    {
     "data": {
      "text/markdown": [
       "## std aggregator with 200-width; with original"
      ],
      "text/plain": [
       "<IPython.core.display.Markdown object>"
      ]
     },
     "metadata": {},
     "output_type": "display_data"
    },
    {
     "data": {
      "text/markdown": [
       "### Naive Bayes:"
      ],
      "text/plain": [
       "<IPython.core.display.Markdown object>"
      ]
     },
     "metadata": {},
     "output_type": "display_data"
    },
    {
     "name": "stdout",
     "output_type": "stream",
     "text": [
      "             precision    recall  f1-score   support\n",
      "\n",
      "          0       0.57      0.85      0.68     50550\n",
      "          1       0.84      0.54      0.66     70212\n",
      "\n",
      "avg / total       0.72      0.67      0.67    120762\n",
      "\n"
     ]
    },
    {
     "data": {
      "text/markdown": [
       "### Logistic regression:"
      ],
      "text/plain": [
       "<IPython.core.display.Markdown object>"
      ]
     },
     "metadata": {},
     "output_type": "display_data"
    },
    {
     "name": "stdout",
     "output_type": "stream",
     "text": [
      "             precision    recall  f1-score   support\n",
      "\n",
      "          0       0.83      0.73      0.78     50550\n",
      "          1       0.82      0.90      0.86     70212\n",
      "\n",
      "avg / total       0.83      0.82      0.82    120762\n",
      "\n"
     ]
    },
    {
     "data": {
      "text/markdown": [
       "---"
      ],
      "text/plain": [
       "<IPython.core.display.Markdown object>"
      ]
     },
     "metadata": {},
     "output_type": "display_data"
    },
    {
     "data": {
      "text/markdown": [
       "## min aggregator with 20-width; with original"
      ],
      "text/plain": [
       "<IPython.core.display.Markdown object>"
      ]
     },
     "metadata": {},
     "output_type": "display_data"
    },
    {
     "data": {
      "text/markdown": [
       "### Naive Bayes:"
      ],
      "text/plain": [
       "<IPython.core.display.Markdown object>"
      ]
     },
     "metadata": {},
     "output_type": "display_data"
    },
    {
     "name": "stdout",
     "output_type": "stream",
     "text": [
      "             precision    recall  f1-score   support\n",
      "\n",
      "          0       0.63      0.81      0.71     50598\n",
      "          1       0.83      0.65      0.73     70268\n",
      "\n",
      "avg / total       0.75      0.72      0.72    120866\n",
      "\n"
     ]
    },
    {
     "data": {
      "text/markdown": [
       "### Logistic regression:"
      ],
      "text/plain": [
       "<IPython.core.display.Markdown object>"
      ]
     },
     "metadata": {},
     "output_type": "display_data"
    },
    {
     "name": "stdout",
     "output_type": "stream",
     "text": [
      "             precision    recall  f1-score   support\n",
      "\n",
      "          0       0.81      0.74      0.77     50598\n",
      "          1       0.82      0.88      0.85     70268\n",
      "\n",
      "avg / total       0.82      0.82      0.82    120866\n",
      "\n"
     ]
    },
    {
     "data": {
      "text/markdown": [
       "---"
      ],
      "text/plain": [
       "<IPython.core.display.Markdown object>"
      ]
     },
     "metadata": {},
     "output_type": "display_data"
    },
    {
     "data": {
      "text/markdown": [
       "## min aggregator with 50-width; with original"
      ],
      "text/plain": [
       "<IPython.core.display.Markdown object>"
      ]
     },
     "metadata": {},
     "output_type": "display_data"
    },
    {
     "data": {
      "text/markdown": [
       "### Naive Bayes:"
      ],
      "text/plain": [
       "<IPython.core.display.Markdown object>"
      ]
     },
     "metadata": {},
     "output_type": "display_data"
    },
    {
     "name": "stdout",
     "output_type": "stream",
     "text": [
      "             precision    recall  f1-score   support\n",
      "\n",
      "          0       0.59      0.84      0.70     50598\n",
      "          1       0.84      0.58      0.69     70268\n",
      "\n",
      "avg / total       0.74      0.69      0.69    120866\n",
      "\n"
     ]
    },
    {
     "data": {
      "text/markdown": [
       "### Logistic regression:"
      ],
      "text/plain": [
       "<IPython.core.display.Markdown object>"
      ]
     },
     "metadata": {},
     "output_type": "display_data"
    },
    {
     "name": "stdout",
     "output_type": "stream",
     "text": [
      "             precision    recall  f1-score   support\n",
      "\n",
      "          0       0.82      0.73      0.77     50598\n",
      "          1       0.82      0.88      0.85     70268\n",
      "\n",
      "avg / total       0.82      0.82      0.82    120866\n",
      "\n"
     ]
    },
    {
     "data": {
      "text/markdown": [
       "---"
      ],
      "text/plain": [
       "<IPython.core.display.Markdown object>"
      ]
     },
     "metadata": {},
     "output_type": "display_data"
    },
    {
     "data": {
      "text/markdown": [
       "## min aggregator with 200-width; with original"
      ],
      "text/plain": [
       "<IPython.core.display.Markdown object>"
      ]
     },
     "metadata": {},
     "output_type": "display_data"
    },
    {
     "data": {
      "text/markdown": [
       "### Naive Bayes:"
      ],
      "text/plain": [
       "<IPython.core.display.Markdown object>"
      ]
     },
     "metadata": {},
     "output_type": "display_data"
    },
    {
     "name": "stdout",
     "output_type": "stream",
     "text": [
      "             precision    recall  f1-score   support\n",
      "\n",
      "          0       0.58      0.84      0.69     50598\n",
      "          1       0.83      0.57      0.67     70268\n",
      "\n",
      "avg / total       0.73      0.68      0.68    120866\n",
      "\n"
     ]
    },
    {
     "data": {
      "text/markdown": [
       "### Logistic regression:"
      ],
      "text/plain": [
       "<IPython.core.display.Markdown object>"
      ]
     },
     "metadata": {},
     "output_type": "display_data"
    },
    {
     "name": "stdout",
     "output_type": "stream",
     "text": [
      "             precision    recall  f1-score   support\n",
      "\n",
      "          0       0.83      0.73      0.78     50598\n",
      "          1       0.82      0.89      0.85     70268\n",
      "\n",
      "avg / total       0.82      0.82      0.82    120866\n",
      "\n"
     ]
    },
    {
     "data": {
      "text/markdown": [
       "---"
      ],
      "text/plain": [
       "<IPython.core.display.Markdown object>"
      ]
     },
     "metadata": {},
     "output_type": "display_data"
    },
    {
     "data": {
      "text/markdown": [
       "## max aggregator with 20-width; with original"
      ],
      "text/plain": [
       "<IPython.core.display.Markdown object>"
      ]
     },
     "metadata": {},
     "output_type": "display_data"
    },
    {
     "data": {
      "text/markdown": [
       "### Naive Bayes:"
      ],
      "text/plain": [
       "<IPython.core.display.Markdown object>"
      ]
     },
     "metadata": {},
     "output_type": "display_data"
    },
    {
     "name": "stdout",
     "output_type": "stream",
     "text": [
      "             precision    recall  f1-score   support\n",
      "\n",
      "          0       0.69      0.74      0.71     50598\n",
      "          1       0.80      0.76      0.78     70268\n",
      "\n",
      "avg / total       0.75      0.75      0.75    120866\n",
      "\n"
     ]
    },
    {
     "data": {
      "text/markdown": [
       "### Logistic regression:"
      ],
      "text/plain": [
       "<IPython.core.display.Markdown object>"
      ]
     },
     "metadata": {},
     "output_type": "display_data"
    },
    {
     "name": "stdout",
     "output_type": "stream",
     "text": [
      "             precision    recall  f1-score   support\n",
      "\n",
      "          0       0.82      0.72      0.77     50598\n",
      "          1       0.82      0.89      0.85     70268\n",
      "\n",
      "avg / total       0.82      0.82      0.82    120866\n",
      "\n"
     ]
    },
    {
     "data": {
      "text/markdown": [
       "---"
      ],
      "text/plain": [
       "<IPython.core.display.Markdown object>"
      ]
     },
     "metadata": {},
     "output_type": "display_data"
    },
    {
     "data": {
      "text/markdown": [
       "## max aggregator with 50-width; with original"
      ],
      "text/plain": [
       "<IPython.core.display.Markdown object>"
      ]
     },
     "metadata": {},
     "output_type": "display_data"
    },
    {
     "data": {
      "text/markdown": [
       "### Naive Bayes:"
      ],
      "text/plain": [
       "<IPython.core.display.Markdown object>"
      ]
     },
     "metadata": {},
     "output_type": "display_data"
    },
    {
     "name": "stdout",
     "output_type": "stream",
     "text": [
      "             precision    recall  f1-score   support\n",
      "\n",
      "          0       0.66      0.79      0.72     50598\n",
      "          1       0.82      0.71      0.76     70268\n",
      "\n",
      "avg / total       0.75      0.74      0.74    120866\n",
      "\n"
     ]
    },
    {
     "data": {
      "text/markdown": [
       "### Logistic regression:"
      ],
      "text/plain": [
       "<IPython.core.display.Markdown object>"
      ]
     },
     "metadata": {},
     "output_type": "display_data"
    },
    {
     "name": "stdout",
     "output_type": "stream",
     "text": [
      "             precision    recall  f1-score   support\n",
      "\n",
      "          0       0.83      0.73      0.77     50598\n",
      "          1       0.82      0.89      0.85     70268\n",
      "\n",
      "avg / total       0.82      0.82      0.82    120866\n",
      "\n"
     ]
    },
    {
     "data": {
      "text/markdown": [
       "---"
      ],
      "text/plain": [
       "<IPython.core.display.Markdown object>"
      ]
     },
     "metadata": {},
     "output_type": "display_data"
    },
    {
     "data": {
      "text/markdown": [
       "## max aggregator with 200-width; with original"
      ],
      "text/plain": [
       "<IPython.core.display.Markdown object>"
      ]
     },
     "metadata": {},
     "output_type": "display_data"
    },
    {
     "data": {
      "text/markdown": [
       "### Naive Bayes:"
      ],
      "text/plain": [
       "<IPython.core.display.Markdown object>"
      ]
     },
     "metadata": {},
     "output_type": "display_data"
    },
    {
     "name": "stdout",
     "output_type": "stream",
     "text": [
      "             precision    recall  f1-score   support\n",
      "\n",
      "          0       0.60      0.84      0.70     50598\n",
      "          1       0.84      0.60      0.70     70268\n",
      "\n",
      "avg / total       0.74      0.70      0.70    120866\n",
      "\n"
     ]
    },
    {
     "data": {
      "text/markdown": [
       "### Logistic regression:"
      ],
      "text/plain": [
       "<IPython.core.display.Markdown object>"
      ]
     },
     "metadata": {},
     "output_type": "display_data"
    },
    {
     "name": "stdout",
     "output_type": "stream",
     "text": [
      "             precision    recall  f1-score   support\n",
      "\n",
      "          0       0.84      0.74      0.78     50598\n",
      "          1       0.82      0.90      0.86     70268\n",
      "\n",
      "avg / total       0.83      0.83      0.83    120866\n",
      "\n"
     ]
    },
    {
     "data": {
      "text/markdown": [
       "---"
      ],
      "text/plain": [
       "<IPython.core.display.Markdown object>"
      ]
     },
     "metadata": {},
     "output_type": "display_data"
    }
   ],
   "source": [
    "for func in 'sum', 'mean', 'median', 'var', 'std', 'min', 'max':\n",
    "    for merge in True, False, True:\n",
    "        for w in 20, 50, 200:\n",
    "            display(Markdown(f'## {func} aggregator with {w}-width; {\"with\" if merge else \"w/o\"} original'))\n",
    "            ds = getattr(train_ds.groupby('TrialID').rolling(window=w, min_periods=1), func)()\n",
    "            ds.reset_index(0, drop=True, inplace=True)\n",
    "            if merge:\n",
    "                ds.drop('IsAlert', inplace=True, axis=1)\n",
    "                ds = pd.merge(train_ds, ds, left_index=True, right_index=True, suffixes=['', f'_{func}'])\n",
    "            else:\n",
    "                ds.IsAlert = train_ds_raw.IsAlert\n",
    "            train, test = train_test_split(ds, test_size=0.2, random_state=5041501)\n",
    "            train = train.dropna()\n",
    "            test = test.dropna()\n",
    "            train_x = train.drop('IsAlert', axis=1)\n",
    "            train_y = train.IsAlert\n",
    "            test_x = test.drop('IsAlert', axis=1)\n",
    "            test_y = test.IsAlert\n",
    "            display(Markdown('### Naive Bayes:'))\n",
    "            gnb = GaussianNB()\n",
    "            pred_y = gnb.fit(train_x, train_y).predict(test_x)\n",
    "            print(classification_report(test_y, pred_y))\n",
    "            display(Markdown('### Logistic regression:'))\n",
    "            lrc = LogisticRegression()\n",
    "            pred_y = lrc.fit(train_x, train_y).predict(test_x)\n",
    "            print(classification_report(test_y, pred_y))\n",
    "            display(Markdown('---'))"
   ]
  },
  {
   "cell_type": "markdown",
   "metadata": {},
   "source": [
    "# Per trial aggreagtions"
   ]
  },
  {
   "cell_type": "markdown",
   "metadata": {},
   "source": [
    "Naive bruteforce feature creation by aggregating all non-physical metrics by trials"
   ]
  },
  {
   "cell_type": "code",
   "execution_count": 23,
   "metadata": {},
   "outputs": [],
   "source": [
    "train_ds = train_ds_raw.drop(\n",
    "    ['ObsNum', 'P8', 'V7', 'V9', 'P1', 'P2', 'P3', 'P4', 'P5', 'P6', 'P7'],\n",
    "    axis=1\n",
    ")"
   ]
  },
  {
   "cell_type": "code",
   "execution_count": 29,
   "metadata": {},
   "outputs": [],
   "source": [
    "ds = train_ds.copy()\n",
    "for func in 'max', 'min', 'mean', 'median', 'std':\n",
    "    aggregated = getattr(train_ds.groupby('TrialID'), func)().drop('IsAlert', axis=1)\n",
    "    ds = ds.merge(aggregated, left_on='TrialID', right_index=True, suffixes=['', '_' + func])"
   ]
  },
  {
   "cell_type": "code",
   "execution_count": 32,
   "metadata": {},
   "outputs": [],
   "source": [
    "train, test = train_test_split(ds, test_size=0.2, random_state=5041501)\n",
    "train = train.dropna()\n",
    "test = test.dropna()\n",
    "train_x = train.drop('IsAlert', axis=1)\n",
    "train_y = train.IsAlert\n",
    "test_x = test.drop('IsAlert', axis=1)\n",
    "test_y = test.IsAlert"
   ]
  },
  {
   "cell_type": "code",
   "execution_count": 33,
   "metadata": {},
   "outputs": [
    {
     "name": "stdout",
     "output_type": "stream",
     "text": [
      "             precision    recall  f1-score   support\n",
      "\n",
      "          0       0.60      0.83      0.69     50598\n",
      "          1       0.83      0.59      0.69     70268\n",
      "\n",
      "avg / total       0.73      0.69      0.69    120866\n",
      "\n"
     ]
    }
   ],
   "source": [
    "gnb = GaussianNB()\n",
    "pred_y = gnb.fit(train_x, train_y).predict(test_x)\n",
    "print(classification_report(test_y, pred_y))"
   ]
  },
  {
   "cell_type": "code",
   "execution_count": 34,
   "metadata": {},
   "outputs": [
    {
     "name": "stdout",
     "output_type": "stream",
     "text": [
      "             precision    recall  f1-score   support\n",
      "\n",
      "          0       0.89      0.82      0.85     50598\n",
      "          1       0.87      0.93      0.90     70268\n",
      "\n",
      "avg / total       0.88      0.88      0.88    120866\n",
      "\n"
     ]
    }
   ],
   "source": [
    "lrc = LogisticRegression()\n",
    "pred_y = lrc.fit(train_x, train_y).predict(test_x)\n",
    "print(classification_report(test_y, pred_y))"
   ]
  },
  {
   "cell_type": "code",
   "execution_count": 36,
   "metadata": {},
   "outputs": [
    {
     "data": {
      "text/plain": [
       "0.8712628342042886"
      ]
     },
     "execution_count": 36,
     "metadata": {},
     "output_type": "execute_result"
    }
   ],
   "source": [
    "roc_auc_score(test_y, pred_y)"
   ]
  },
  {
   "cell_type": "code",
   "execution_count": 59,
   "metadata": {},
   "outputs": [
    {
     "data": {
      "text/plain": [
       "[('E9', 2.662625372347023),\n",
       " ('E9_min', 0.8215635408704546),\n",
       " ('V5_min', 0.7803186266471944),\n",
       " ('E8_mean', -0.6073702753933001),\n",
       " ('V10_median', -0.6072983441352349),\n",
       " ('V11_median', 0.5449001578301943),\n",
       " ('V11_min', -0.5150889184911813),\n",
       " ('E3_mean', -0.49643710875745595),\n",
       " ('E8_std', -0.49131294418051863),\n",
       " ('V2_mean', 0.4698261850115486),\n",
       " ('V2_min', -0.4574824344980008),\n",
       " ('V5_mean', 0.4552111896063951),\n",
       " ('E3_std', 0.4499451744526564),\n",
       " ('E3_median', -0.4263327706251706),\n",
       " ('E9_mean', 0.4005244907205298),\n",
       " ('V5_max', 0.3964945083185477),\n",
       " ('E9_max', 0.3807439545727079),\n",
       " ('V10_max', 0.3680098620253643),\n",
       " ('E3_min', 0.36359219038396257),\n",
       " ('E3_max', 0.3577647033394549),\n",
       " ('E8_min', 0.3558585894558248),\n",
       " ('V5_median', -0.3545862449674232),\n",
       " ('E7_min', 0.3372098002882152),\n",
       " ('E1_std', -0.3218746513624453),\n",
       " ('V11_std', -0.3175314331211265),\n",
       " ('V5', 0.2795728436107666),\n",
       " ('V2_median', 0.2749239965772178),\n",
       " ('V11_mean', 0.2394341312804933),\n",
       " ('E9_median', 0.22933283394581158),\n",
       " ('E8', -0.21266639832908704),\n",
       " ('E8_median', -0.20828113387177855),\n",
       " ('E7_mean', -0.18868815649852427),\n",
       " ('V2', 0.18743513537458262),\n",
       " ('E7_std', 0.17433805490363097),\n",
       " ('V8_min', -0.16920193942010964),\n",
       " ('V2_max', 0.16628494443523548),\n",
       " ('V8_std', 0.1540970596515462),\n",
       " ('E11_median', 0.15348065282663526),\n",
       " ('E9_std', 0.1275184981321515),\n",
       " ('E7_median', 0.12423731971306808),\n",
       " ('E3', -0.12398977997280505),\n",
       " ('E7', -0.1205281804476664),\n",
       " ('V10_min', -0.10760713505467202),\n",
       " ('V10_mean', -0.10590091684619511),\n",
       " ('E8_max', -0.08639152142064785),\n",
       " ('V1_max', -0.08462406829017753),\n",
       " ('E11_std', -0.07451564678471059),\n",
       " ('E10_std', 0.07104975304622634),\n",
       " ('V8_median', -0.06862556775690098),\n",
       " ('V11_max', 0.05934990526977294),\n",
       " ('V1_median', 0.0554122600124959),\n",
       " ('E7_max', 0.05531813378856222),\n",
       " ('V4_std', -0.05326158253460468),\n",
       " ('V5_std', 0.0498867848753835),\n",
       " ('V8_mean', 0.04501477540533675),\n",
       " ('V4_mean', 0.04259955051940918),\n",
       " ('V10', 0.0403122183289264),\n",
       " ('V1_mean', -0.03586276768031428),\n",
       " ('E10_mean', 0.03457088054074609),\n",
       " ('E4_std', -0.03366632504517348),\n",
       " ('V2_std', 0.03157019898902111),\n",
       " ('V4_min', -0.030368334629561452),\n",
       " ('E6_mean', 0.02985151568474905),\n",
       " ('E6_median', -0.02948564767483076),\n",
       " ('E1_max', 0.027694246233045346),\n",
       " ('V8_max', 0.023973877231401992),\n",
       " ('V1_min', 0.023747950161429103),\n",
       " ('E10', -0.022620689854907765),\n",
       " ('E10_max', 0.02139850766410332),\n",
       " ('V1_std', 0.021394475636910926),\n",
       " ('E11_mean', 0.018677425831989412),\n",
       " ('E1_median', 0.017588132649558292),\n",
       " ('E4_mean', -0.017056224966239326),\n",
       " ('E2_std', 0.016463187439420164),\n",
       " ('E10_median', 0.014976955880561749),\n",
       " ('V4_median', -0.014606219895632003),\n",
       " ('E5_min', 0.013213213725726055),\n",
       " ('E6_min', -0.012071010688958552),\n",
       " ('TrialID', -0.00879133926856587),\n",
       " ('V4_max', 0.007585189625376665),\n",
       " ('V3_mean', -0.00730222177951978),\n",
       " ('E5_max', -0.007302220859364874),\n",
       " ('E4_median', -0.0068569690855192185),\n",
       " ('E5_std', -0.00657606021359517),\n",
       " ('V6_median', 0.005178369567776372),\n",
       " ('E6', -0.0049221797031529955),\n",
       " ('V10_std', 0.004648601093848726),\n",
       " ('E2_max', -0.004647915412078156),\n",
       " ('V3_std', 0.0040612188892902214),\n",
       " ('V3_max', -0.0038339612114341327),\n",
       " ('E2_median', -0.0037993975738044423),\n",
       " ('E4_max', -0.0036576852433395863),\n",
       " ('V11', 0.0036372061930628743),\n",
       " ('V8', -0.003592597470977346),\n",
       " ('V6_std', 0.0035459943071645553),\n",
       " ('E2_mean', 0.0035068689739768018),\n",
       " ('E11', 0.003474125892546895),\n",
       " ('E11_max', 0.0030697344991153985),\n",
       " ('E4_min', -0.003032431432328815),\n",
       " ('V3_min', 0.002878935379091625),\n",
       " ('V1', -0.0024657699163637614),\n",
       " ('E1_mean', -0.0024121482686607007),\n",
       " ('E5_mean', 0.0022876781550379083),\n",
       " ('E5_median', 0.0022795261213849065),\n",
       " ('V3_median', 0.0018857349990484087),\n",
       " ('E6_std', -0.0017696980527969726),\n",
       " ('E10_min', -0.0015425613973972477),\n",
       " ('E1', 0.0015303203312283617),\n",
       " ('E4', -0.0013846499251840756),\n",
       " ('V6_min', 0.0013381316014264533),\n",
       " ('V6_mean', -0.0013281462612769533),\n",
       " ('E5', 0.0010199795878127749),\n",
       " ('E2', -0.00033324155782692806),\n",
       " ('V6_max', -0.0002517558840911676),\n",
       " ('V4', -0.0002372527445066239),\n",
       " ('E6_max', -0.0002039600811007086),\n",
       " ('V3', 5.490049757390902e-05),\n",
       " ('V6', 2.613104055710194e-05),\n",
       " ('E1_min', 0.0),\n",
       " ('E2_min', 0.0),\n",
       " ('E11_min', 0.0)]"
      ]
     },
     "execution_count": 59,
     "metadata": {},
     "output_type": "execute_result"
    }
   ],
   "source": [
    "weights = sorted(zip(train_x.columns ,lrc.coef_[0]), reverse=True, key=lambda x: abs(x[1]))\n",
    "weights"
   ]
  },
  {
   "cell_type": "code",
   "execution_count": 77,
   "metadata": {},
   "outputs": [
    {
     "data": {
      "text/plain": [
       "[('IsAlert', 1.0),\n",
       " ('E9', 0.38035253000113456),\n",
       " ('E7', -0.3297216784513879),\n",
       " ('E8', -0.2834396158996142),\n",
       " ('E9_max', 0.2740730758208812),\n",
       " ('V1_max', -0.27042197633743337),\n",
       " ('V1', -0.269966521893559),\n",
       " ('V10', -0.25960724337549596),\n",
       " ('E4_max', -0.2546233286441935),\n",
       " ('V3_max', -0.24179512058010083),\n",
       " ('E1_min', nan),\n",
       " ('E2_min', nan),\n",
       " ('E11_min', nan),\n",
       " ('E8_std', -0.37633670691601356),\n",
       " ('V11_median', 0.3550413959109491),\n",
       " ('V11_min', 0.338252221647768),\n",
       " ('E1_std', -0.33623829807897465),\n",
       " ('E7_mean', -0.3216565276455545),\n",
       " ('E8_mean', -0.31951944782990216),\n",
       " ('E9_mean', 0.31819910487140113),\n",
       " ('E7_median', -0.3113976951553943),\n",
       " ('E9_median', 0.3072518876144614),\n",
       " ('E1_mean', -0.2873823074099205),\n",
       " ('V10_mean', -0.2789272995363445),\n",
       " ('V10_median', -0.27578286802696206),\n",
       " ('V10_min', -0.2748838132281991),\n",
       " ('V1_mean', -0.2736681345464895),\n",
       " ('V1_median', -0.27183711598762234),\n",
       " ('V6_mean', -0.2617946679518297),\n",
       " ('V8_mean', -0.261540809585448),\n",
       " ('E2_std', -0.25917188189238355),\n",
       " ('V6_median', -0.2583284705330492),\n",
       " ('V1_min', -0.2576716630008587),\n",
       " ('E8_median', -0.255969801712094),\n",
       " ('V8_median', -0.2519623131336576),\n",
       " ('V11_mean', 0.24922026836715644),\n",
       " ('V6', -0.2441501139353469),\n",
       " ('V6_min', -0.23835971176576137),\n",
       " ('E2_mean', -0.23484988686579505),\n",
       " ('E5_max', -0.2268657092146104),\n",
       " ('E6_mean', -0.22373400397104842),\n",
       " ('V3_std', -0.21962883200497904),\n",
       " ('E1_max', -0.21725048206368222),\n",
       " ('E6_median', -0.21512139700832447),\n",
       " ('E4_std', -0.21256286155941892),\n",
       " ('E7_min', -0.20364027023438142),\n",
       " ('E5_std', -0.19830534892089574),\n",
       " ('E6_max', -0.1941435304531288),\n",
       " ('E6', -0.1891978673437089),\n",
       " ('V8_max', -0.18891064074491726),\n",
       " ('E6_min', -0.18608913053067871),\n",
       " ('V8', -0.16554998852332173),\n",
       " ('V6_max', -0.16473232058191625),\n",
       " ('E3_mean', 0.16129257635645228),\n",
       " ('E1', -0.16082984327827662),\n",
       " ('E3_median', 0.15971707332893367),\n",
       " ('E8_max', -0.15850116544677847),\n",
       " ('E3', 0.15797266565538365),\n",
       " ('V11', 0.15572172956245112),\n",
       " ('E3_std', 0.15538594862109306),\n",
       " ('E8_min', 0.15465594819298778),\n",
       " ('V5_min', 0.152453672386046),\n",
       " ('E7_std', -0.14950805345094836),\n",
       " ('V3_mean', -0.14926890918533003),\n",
       " ('E4_median', 0.1462525302640563),\n",
       " ('TrialID', -0.14581595296488886),\n",
       " ('V5_std', -0.14477300665506698),\n",
       " ('V8_std', -0.14108433420301086),\n",
       " ('E3_max', 0.13821572867305398),\n",
       " ('V10_max', -0.13432921496434233),\n",
       " ('E9_min', 0.1336298169028979),\n",
       " ('E4_mean', 0.133525605264603),\n",
       " ('E11_mean', 0.13211088612755337),\n",
       " ('E1_median', -0.1319529095364398),\n",
       " ('E2_median', -0.1278855783124503),\n",
       " ('E2_max', -0.12091621511785872),\n",
       " ('E11_std', 0.12036607011556863),\n",
       " ('V4_max', 0.11961981166135757),\n",
       " ('V10_std', 0.11878176527704154),\n",
       " ('V4_mean', 0.10589933221722438),\n",
       " ('E2', -0.10549453086576598),\n",
       " ('V5_median', 0.10514134173506379),\n",
       " ('V2_mean', -0.10421352777184122),\n",
       " ('V2_median', -0.10087392236336216),\n",
       " ('E11_median', 0.10027973504666872),\n",
       " ('V4', 0.09702216011916244),\n",
       " ('E11_max', 0.09591438843326842),\n",
       " ('V5_max', -0.09554731525216455),\n",
       " ('E5_mean', -0.09350051509408076),\n",
       " ('E4_min', 0.09116695152357544),\n",
       " ('V4_median', 0.08949607427099342),\n",
       " ('V4_std', 0.08598094593967656),\n",
       " ('V8_min', -0.08455255762193227),\n",
       " ('E3_min', 0.08196209127623995),\n",
       " ('E10_std', -0.08147470631994325),\n",
       " ('V3_median', -0.0792703375869775),\n",
       " ('E11', 0.07900244044107622),\n",
       " ('V11_max', 0.07760908608413764),\n",
       " ('V5_mean', 0.07726133550472707),\n",
       " ('E5_median', -0.07622326134041127),\n",
       " ('V2_min', -0.07199265170625656),\n",
       " ('V4_min', 0.07049606476276347),\n",
       " ('E5', -0.06745292795870929),\n",
       " ('E10', -0.06705145034736017),\n",
       " ('V3', -0.0620000250933506),\n",
       " ('E7_max', -0.0576785344000418),\n",
       " ('E5_min', 0.05582698919781967),\n",
       " ('V5', 0.05542893224922772),\n",
       " ('E6_std', -0.05502402769204121),\n",
       " ('V2', -0.05073959555553021),\n",
       " ('V6_std', 0.04804371831866403),\n",
       " ('E4', 0.047992220444869935),\n",
       " ('V3_min', 0.044452014502246014),\n",
       " ('E10_mean', -0.030393688022393634),\n",
       " ('V11_std', 0.02789629079658488),\n",
       " ('E10_median', -0.02783890938580462),\n",
       " ('V2_std', 0.022771032274971906),\n",
       " ('E10_min', -0.018109855269633757),\n",
       " ('E10_max', -0.016662011183043314),\n",
       " ('V2_max', -0.01215509185051917),\n",
       " ('V1_std', 0.006589215486731819),\n",
       " ('E9_std', 0.00637006628325864)]"
      ]
     },
     "execution_count": 77,
     "metadata": {},
     "output_type": "execute_result"
    }
   ],
   "source": [
    "sorted(ds.corr().IsAlert.items(), reverse=True, key=lambda x: abs(x[1]))"
   ]
  }
 ],
 "metadata": {
  "kernelspec": {
   "display_name": "Python 3",
   "language": "python",
   "name": "python3"
  },
  "language_info": {
   "codemirror_mode": {
    "name": "ipython",
    "version": 3
   },
   "file_extension": ".py",
   "mimetype": "text/x-python",
   "name": "python",
   "nbconvert_exporter": "python",
   "pygments_lexer": "ipython3",
   "version": "3.6.3"
  }
 },
 "nbformat": 4,
 "nbformat_minor": 2
}
